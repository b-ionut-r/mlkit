{
 "cells": [
  {
   "cell_type": "code",
   "execution_count": 1,
   "metadata": {},
   "outputs": [],
   "source": [
    "import numpy as np\n",
    "import pandas as pd\n",
    "import matplotlib.pyplot as plt\n",
    "from sklearn.datasets import load_breast_cancer"
   ]
  },
  {
   "cell_type": "code",
   "execution_count": 2,
   "metadata": {},
   "outputs": [],
   "source": [
    "diabetes = load_breast_cancer()\n",
    "features = diabetes.data\n",
    "feature_names = diabetes.feature_names\n",
    "targets = diabetes.target\n",
    "target_names = diabetes.target_names"
   ]
  },
  {
   "cell_type": "code",
   "execution_count": 3,
   "metadata": {},
   "outputs": [
    {
     "data": {
      "text/plain": [
       "(array(['mean radius', 'mean texture', 'mean perimeter', 'mean area',\n",
       "        'mean smoothness', 'mean compactness', 'mean concavity',\n",
       "        'mean concave points', 'mean symmetry', 'mean fractal dimension',\n",
       "        'radius error', 'texture error', 'perimeter error', 'area error',\n",
       "        'smoothness error', 'compactness error', 'concavity error',\n",
       "        'concave points error', 'symmetry error',\n",
       "        'fractal dimension error', 'worst radius', 'worst texture',\n",
       "        'worst perimeter', 'worst area', 'worst smoothness',\n",
       "        'worst compactness', 'worst concavity', 'worst concave points',\n",
       "        'worst symmetry', 'worst fractal dimension'], dtype='<U23'),\n",
       " array([[1.799e+01, 1.038e+01, 1.228e+02, 1.001e+03, 1.184e-01, 2.776e-01,\n",
       "         3.001e-01, 1.471e-01, 2.419e-01, 7.871e-02, 1.095e+00, 9.053e-01,\n",
       "         8.589e+00, 1.534e+02, 6.399e-03, 4.904e-02, 5.373e-02, 1.587e-02,\n",
       "         3.003e-02, 6.193e-03, 2.538e+01, 1.733e+01, 1.846e+02, 2.019e+03,\n",
       "         1.622e-01, 6.656e-01, 7.119e-01, 2.654e-01, 4.601e-01, 1.189e-01],\n",
       "        [2.057e+01, 1.777e+01, 1.329e+02, 1.326e+03, 8.474e-02, 7.864e-02,\n",
       "         8.690e-02, 7.017e-02, 1.812e-01, 5.667e-02, 5.435e-01, 7.339e-01,\n",
       "         3.398e+00, 7.408e+01, 5.225e-03, 1.308e-02, 1.860e-02, 1.340e-02,\n",
       "         1.389e-02, 3.532e-03, 2.499e+01, 2.341e+01, 1.588e+02, 1.956e+03,\n",
       "         1.238e-01, 1.866e-01, 2.416e-01, 1.860e-01, 2.750e-01, 8.902e-02],\n",
       "        [1.969e+01, 2.125e+01, 1.300e+02, 1.203e+03, 1.096e-01, 1.599e-01,\n",
       "         1.974e-01, 1.279e-01, 2.069e-01, 5.999e-02, 7.456e-01, 7.869e-01,\n",
       "         4.585e+00, 9.403e+01, 6.150e-03, 4.006e-02, 3.832e-02, 2.058e-02,\n",
       "         2.250e-02, 4.571e-03, 2.357e+01, 2.553e+01, 1.525e+02, 1.709e+03,\n",
       "         1.444e-01, 4.245e-01, 4.504e-01, 2.430e-01, 3.613e-01, 8.758e-02]]))"
      ]
     },
     "execution_count": 3,
     "metadata": {},
     "output_type": "execute_result"
    }
   ],
   "source": [
    "feature_names, features[:3]"
   ]
  },
  {
   "cell_type": "code",
   "execution_count": 4,
   "metadata": {},
   "outputs": [
    {
     "data": {
      "text/plain": [
       "(array(['malignant', 'benign'], dtype='<U9'),\n",
       " array([0, 0, 0, 0, 0, 0, 0, 0, 0, 0, 0, 0, 0, 0, 0, 0, 0, 0, 0, 1, 1, 1,\n",
       "        0, 0, 0]))"
      ]
     },
     "execution_count": 4,
     "metadata": {},
     "output_type": "execute_result"
    }
   ],
   "source": [
    "target_names, targets[:25]"
   ]
  },
  {
   "cell_type": "code",
   "execution_count": 5,
   "metadata": {},
   "outputs": [],
   "source": [
    "from mlkit.model_selection import train_test_split\n",
    "X_train, X_test, y_train, y_test = train_test_split(features, targets, test_size=0.2, random_state=42)"
   ]
  },
  {
   "cell_type": "code",
   "execution_count": 7,
   "metadata": {},
   "outputs": [
    {
     "name": "stderr",
     "output_type": "stream",
     "text": [
      "[I 2024-12-04 03:01:34,923] A new study created in memory with name: tuner_study\n"
     ]
    },
    {
     "name": "stdout",
     "output_type": "stream",
     "text": [
      "\n",
      "Starting optimization process...\n",
      "\n"
     ]
    },
    {
     "data": {
      "application/vnd.jupyter.widget-view+json": {
       "model_id": "0cff78b81ffa4ce2b3ef45916aa06fc1",
       "version_major": 2,
       "version_minor": 0
      },
      "text/plain": [
       "  0%|          | 0/10000 [00:00<?, ?it/s]"
      ]
     },
     "metadata": {},
     "output_type": "display_data"
    },
    {
     "name": "stdout",
     "output_type": "stream",
     "text": [
      "[I 2024-12-04 03:01:36,305] Trial 0 finished with value: 0.9142857141852433 and parameters: {'k': 40, 'metric': 'dinf', 'scaler': <mlkit.preprocessing.scalers.StandardScaler object at 0x000001CDB2D5B580>}. Best is trial 0 with value: 0.9142857141852433.\n",
      "[I 2024-12-04 03:01:37,863] Trial 1 finished with value: 0.9604395603340178 and parameters: {'k': 11, 'metric': 'd2', 'scaler': <mlkit.preprocessing.scalers.StandardScaler object at 0x000001CDB0A11FD0>}. Best is trial 1 with value: 0.9604395603340178.\n",
      "[I 2024-12-04 03:01:38,984] Trial 2 finished with value: 0.9164835163828041 and parameters: {'k': 38, 'metric': 'dinf', 'scaler': <mlkit.preprocessing.scalers.StandardScaler object at 0x000001CDB1AA2AF0>}. Best is trial 1 with value: 0.9604395603340178.\n",
      "[I 2024-12-04 03:01:40,387] Trial 3 finished with value: 0.9406593405559714 and parameters: {'k': 46, 'metric': 'd2', 'scaler': <mlkit.preprocessing.scalers.StandardScaler object at 0x000001CDB1ABEE80>}. Best is trial 1 with value: 0.9604395603340178.\n",
      "[I 2024-12-04 03:01:41,680] Trial 4 finished with value: 0.909890109790122 and parameters: {'k': 48, 'metric': 'dinf', 'scaler': <mlkit.preprocessing.scalers.StandardScaler object at 0x000001CDB04B9EE0>}. Best is trial 1 with value: 0.9604395603340178.\n",
      "[I 2024-12-04 03:01:42,985] Trial 5 finished with value: 0.9538461537413356 and parameters: {'k': 13, 'metric': 'd2', 'scaler': <mlkit.preprocessing.scalers.StandardScaler object at 0x000001CDB1AA2370>}. Best is trial 1 with value: 0.9604395603340178.\n",
      "[I 2024-12-04 03:01:44,106] Trial 6 finished with value: 0.9362637361608502 and parameters: {'k': 26, 'metric': 'dinf', 'scaler': <mlkit.preprocessing.scalers.MinMaxScaler object at 0x000001CDB1AC84C0>}. Best is trial 1 with value: 0.9604395603340178.\n",
      "[I 2024-12-04 03:01:45,378] Trial 7 finished with value: 0.9472527471486536 and parameters: {'k': 50, 'metric': 'd2', 'scaler': <mlkit.preprocessing.scalers.MinMaxScaler object at 0x000001CDB0945580>}. Best is trial 1 with value: 0.9604395603340178.\n",
      "[I 2024-12-04 03:01:46,517] Trial 8 finished with value: 0.9296703295681681 and parameters: {'k': 24, 'metric': 'dinf', 'scaler': <mlkit.preprocessing.scalers.StandardScaler object at 0x000001CDB0948B80>}. Best is trial 1 with value: 0.9604395603340178.\n",
      "[I 2024-12-04 03:01:47,787] Trial 9 finished with value: 0.9472527471486536 and parameters: {'k': 50, 'metric': 'd2', 'scaler': <mlkit.preprocessing.scalers.MinMaxScaler object at 0x000001CDB0976D90>}. Best is trial 1 with value: 0.9604395603340178.\n",
      "[I 2024-12-04 03:01:48,893] Trial 10 finished with value: 0.9670329669266998 and parameters: {'k': 6, 'metric': 'd1', 'scaler': <mlkit.preprocessing.scalers.MinMaxScaler object at 0x000001CDB1ADE520>}. Best is trial 10 with value: 0.9670329669266998.\n",
      "[I 2024-12-04 03:01:50,168] Trial 11 finished with value: 0.971428571321821 and parameters: {'k': 5, 'metric': 'd1', 'scaler': <mlkit.preprocessing.scalers.MinMaxScaler object at 0x000001CDB0945460>}. Best is trial 11 with value: 0.971428571321821.\n",
      "[I 2024-12-04 03:01:51,280] Trial 12 finished with value: 0.971428571321821 and parameters: {'k': 5, 'metric': 'd1', 'scaler': <mlkit.preprocessing.scalers.MinMaxScaler object at 0x000001CDB0948AC0>}. Best is trial 11 with value: 0.971428571321821.\n",
      "[I 2024-12-04 03:01:52,455] Trial 13 finished with value: 0.9472527471486536 and parameters: {'k': 17, 'metric': 'd1', 'scaler': <mlkit.preprocessing.scalers.MinMaxScaler object at 0x000001CDB0945850>}. Best is trial 11 with value: 0.971428571321821.\n",
      "[I 2024-12-04 03:01:53,576] Trial 14 finished with value: 0.971428571321821 and parameters: {'k': 5, 'metric': 'd1', 'scaler': <mlkit.preprocessing.scalers.MinMaxScaler object at 0x000001CDB1AA2220>}. Best is trial 11 with value: 0.971428571321821.\n",
      "[I 2024-12-04 03:01:54,800] Trial 15 finished with value: 0.9472527471486536 and parameters: {'k': 19, 'metric': 'd1', 'scaler': <mlkit.preprocessing.scalers.MinMaxScaler object at 0x000001CDB2CB8130>}. Best is trial 11 with value: 0.971428571321821.\n",
      "[I 2024-12-04 03:01:55,908] Trial 16 finished with value: 0.9472527471486536 and parameters: {'k': 32, 'metric': 'd1', 'scaler': <mlkit.preprocessing.scalers.MinMaxScaler object at 0x000001CDB2CB8610>}. Best is trial 11 with value: 0.971428571321821.\n",
      "[I 2024-12-04 03:01:57,017] Trial 17 finished with value: 0.9538461537413356 and parameters: {'k': 10, 'metric': 'd1', 'scaler': <mlkit.preprocessing.scalers.MinMaxScaler object at 0x000001CDB2CB8790>}. Best is trial 11 with value: 0.971428571321821.\n",
      "[I 2024-12-04 03:01:58,175] Trial 18 finished with value: 0.9472527471486536 and parameters: {'k': 19, 'metric': 'd1', 'scaler': <mlkit.preprocessing.scalers.MinMaxScaler object at 0x000001CDB2CB8130>}. Best is trial 11 with value: 0.971428571321821.\n",
      "[I 2024-12-04 03:01:59,360] Trial 19 finished with value: 0.9516483515437748 and parameters: {'k': 14, 'metric': 'd1', 'scaler': <mlkit.preprocessing.scalers.MinMaxScaler object at 0x000001CDB2CB8D90>}. Best is trial 11 with value: 0.971428571321821.\n",
      "[I 2024-12-04 03:02:00,600] Trial 20 finished with value: 0.9560439559388965 and parameters: {'k': 8, 'metric': 'd1', 'scaler': <mlkit.preprocessing.scalers.MinMaxScaler object at 0x000001CDB2CB82B0>}. Best is trial 11 with value: 0.971428571321821.\n",
      "[I 2024-12-04 03:02:01,782] Trial 21 finished with value: 0.971428571321821 and parameters: {'k': 5, 'metric': 'd1', 'scaler': <mlkit.preprocessing.scalers.MinMaxScaler object at 0x000001CDB09457F0>}. Best is trial 11 with value: 0.971428571321821.\n",
      "[I 2024-12-04 03:02:03,164] Trial 22 finished with value: 0.9670329669266998 and parameters: {'k': 6, 'metric': 'd1', 'scaler': <mlkit.preprocessing.scalers.MinMaxScaler object at 0x000001CDB2D16250>}. Best is trial 11 with value: 0.971428571321821.\n",
      "[I 2024-12-04 03:02:04,401] Trial 23 finished with value: 0.9472527471486536 and parameters: {'k': 15, 'metric': 'd1', 'scaler': <mlkit.preprocessing.scalers.MinMaxScaler object at 0x000001CDB2D16FA0>}. Best is trial 11 with value: 0.971428571321821.\n",
      "[I 2024-12-04 03:02:05,620] Trial 24 finished with value: 0.9472527471486536 and parameters: {'k': 22, 'metric': 'd1', 'scaler': <mlkit.preprocessing.scalers.MinMaxScaler object at 0x000001CDB2D505B0>}. Best is trial 11 with value: 0.971428571321821.\n",
      "[I 2024-12-04 03:02:06,869] Trial 25 finished with value: 0.9560439559388965 and parameters: {'k': 9, 'metric': 'd1', 'scaler': <mlkit.preprocessing.scalers.MinMaxScaler object at 0x000001CDB2D16CD0>}. Best is trial 11 with value: 0.971428571321821.\n",
      "[I 2024-12-04 03:02:08,035] Trial 26 finished with value: 0.9450549449510929 and parameters: {'k': 31, 'metric': 'd1', 'scaler': <mlkit.preprocessing.scalers.MinMaxScaler object at 0x000001CDB2D50490>}. Best is trial 11 with value: 0.971428571321821.\n",
      "[I 2024-12-04 03:02:09,461] Trial 27 finished with value: 0.971428571321821 and parameters: {'k': 5, 'metric': 'd1', 'scaler': <mlkit.preprocessing.scalers.MinMaxScaler object at 0x000001CDB2D505B0>}. Best is trial 11 with value: 0.971428571321821.\n",
      "[I 2024-12-04 03:02:10,862] Trial 28 finished with value: 0.9516483515437748 and parameters: {'k': 12, 'metric': 'd1', 'scaler': <mlkit.preprocessing.scalers.MinMaxScaler object at 0x000001CDB289E6D0>}. Best is trial 11 with value: 0.971428571321821.\n",
      "[I 2024-12-04 03:02:12,102] Trial 29 finished with value: 0.9560439559388965 and parameters: {'k': 9, 'metric': 'd1', 'scaler': <mlkit.preprocessing.scalers.MinMaxScaler object at 0x000001CDB2D50A90>}. Best is trial 11 with value: 0.971428571321821.\n",
      "[I 2024-12-04 03:02:13,391] Trial 30 finished with value: 0.945054944951093 and parameters: {'k': 16, 'metric': 'dinf', 'scaler': <mlkit.preprocessing.scalers.MinMaxScaler object at 0x000001CDB289E0A0>}. Best is trial 11 with value: 0.971428571321821.\n",
      "[I 2024-12-04 03:02:14,881] Trial 31 finished with value: 0.971428571321821 and parameters: {'k': 5, 'metric': 'd1', 'scaler': <mlkit.preprocessing.scalers.MinMaxScaler object at 0x000001CDB2D16C10>}. Best is trial 11 with value: 0.971428571321821.\n",
      "[I 2024-12-04 03:02:16,143] Trial 32 finished with value: 0.9560439559388965 and parameters: {'k': 8, 'metric': 'd1', 'scaler': <mlkit.preprocessing.scalers.MinMaxScaler object at 0x000001CDB2D50970>}. Best is trial 11 with value: 0.971428571321821.\n",
      "[I 2024-12-04 03:02:17,502] Trial 33 finished with value: 0.9560439559388965 and parameters: {'k': 11, 'metric': 'd1', 'scaler': <mlkit.preprocessing.scalers.MinMaxScaler object at 0x000001CDB2D565B0>}. Best is trial 11 with value: 0.971428571321821.\n",
      "[I 2024-12-04 03:02:18,702] Trial 34 finished with value: 0.942857142753532 and parameters: {'k': 42, 'metric': 'd1', 'scaler': <mlkit.preprocessing.scalers.StandardScaler object at 0x000001CDB2D56610>}. Best is trial 11 with value: 0.971428571321821.\n",
      "[I 2024-12-04 03:02:20,078] Trial 35 finished with value: 0.9736263735193817 and parameters: {'k': 5, 'metric': 'd2', 'scaler': <mlkit.preprocessing.scalers.StandardScaler object at 0x000001CDB2D56850>}. Best is trial 35 with value: 0.9736263735193817.\n",
      "[I 2024-12-04 03:02:21,873] Trial 36 finished with value: 0.9582417581364571 and parameters: {'k': 12, 'metric': 'd2', 'scaler': <mlkit.preprocessing.scalers.StandardScaler object at 0x000001CDB2D56580>}. Best is trial 35 with value: 0.9736263735193817.\n",
      "[I 2024-12-04 03:02:23,500] Trial 37 finished with value: 0.9670329669266998 and parameters: {'k': 8, 'metric': 'd2', 'scaler': <mlkit.preprocessing.scalers.StandardScaler object at 0x000001CDB2D56520>}. Best is trial 35 with value: 0.9736263735193817.\n",
      "[I 2024-12-04 03:02:24,988] Trial 38 finished with value: 0.964835164729139 and parameters: {'k': 7, 'metric': 'd2', 'scaler': <mlkit.preprocessing.scalers.StandardScaler object at 0x000001CDB2D563A0>}. Best is trial 35 with value: 0.9736263735193817.\n",
      "[I 2024-12-04 03:02:26,338] Trial 39 finished with value: 0.9604395603340178 and parameters: {'k': 11, 'metric': 'd2', 'scaler': <mlkit.preprocessing.scalers.StandardScaler object at 0x000001CDB2D07B80>}. Best is trial 35 with value: 0.9736263735193817.\n",
      "[I 2024-12-04 03:02:27,709] Trial 40 finished with value: 0.9164835163828041 and parameters: {'k': 38, 'metric': 'dinf', 'scaler': <mlkit.preprocessing.scalers.StandardScaler object at 0x000001CDB2D070A0>}. Best is trial 35 with value: 0.9736263735193817.\n",
      "[I 2024-12-04 03:02:28,946] Trial 41 finished with value: 0.9736263735193817 and parameters: {'k': 5, 'metric': 'd2', 'scaler': <mlkit.preprocessing.scalers.StandardScaler object at 0x000001CDB2D07970>}. Best is trial 35 with value: 0.9736263735193817.\n",
      "[I 2024-12-04 03:02:30,254] Trial 42 finished with value: 0.964835164729139 and parameters: {'k': 7, 'metric': 'd2', 'scaler': <mlkit.preprocessing.scalers.StandardScaler object at 0x000001CDB2D07130>}. Best is trial 35 with value: 0.9736263735193817.\n",
      "[I 2024-12-04 03:02:32,044] Trial 43 finished with value: 0.9736263735193817 and parameters: {'k': 5, 'metric': 'd2', 'scaler': <mlkit.preprocessing.scalers.StandardScaler object at 0x000001CDB2D07C10>}. Best is trial 35 with value: 0.9736263735193817.\n",
      "[I 2024-12-04 03:02:33,787] Trial 44 finished with value: 0.9560439559388965 and parameters: {'k': 10, 'metric': 'd2', 'scaler': <mlkit.preprocessing.scalers.StandardScaler object at 0x000001CDB2D07430>}. Best is trial 35 with value: 0.9736263735193817.\n",
      "[I 2024-12-04 03:02:35,199] Trial 45 finished with value: 0.9538461537413356 and parameters: {'k': 13, 'metric': 'd2', 'scaler': <mlkit.preprocessing.scalers.StandardScaler object at 0x000001CDB2D07E50>}. Best is trial 35 with value: 0.9736263735193817.\n",
      "[I 2024-12-04 03:02:36,554] Trial 46 finished with value: 0.964835164729139 and parameters: {'k': 7, 'metric': 'd2', 'scaler': <mlkit.preprocessing.scalers.StandardScaler object at 0x000001CDB2D077F0>}. Best is trial 35 with value: 0.9736263735193817.\n",
      "[I 2024-12-04 03:02:37,946] Trial 47 finished with value: 0.9538461537413356 and parameters: {'k': 18, 'metric': 'd2', 'scaler': <mlkit.preprocessing.scalers.StandardScaler object at 0x000001CDB2811C10>}. Best is trial 35 with value: 0.9736263735193817.\n",
      "[I 2024-12-04 03:02:39,323] Trial 48 finished with value: 0.9560439559388965 and parameters: {'k': 10, 'metric': 'd2', 'scaler': <mlkit.preprocessing.scalers.StandardScaler object at 0x000001CDB0747910>}. Best is trial 35 with value: 0.9736263735193817.\n",
      "[I 2024-12-04 03:02:40,867] Trial 49 finished with value: 0.9538461537413356 and parameters: {'k': 21, 'metric': 'd2', 'scaler': <mlkit.preprocessing.scalers.StandardScaler object at 0x000001CDB2811FD0>}. Best is trial 35 with value: 0.9736263735193817.\n",
      "[I 2024-12-04 03:02:42,322] Trial 50 finished with value: 0.9538461537413356 and parameters: {'k': 14, 'metric': 'd2', 'scaler': <mlkit.preprocessing.scalers.StandardScaler object at 0x000001CDB27F91F0>}. Best is trial 35 with value: 0.9736263735193817.\n",
      "[I 2024-12-04 03:02:43,530] Trial 51 finished with value: 0.945054944951093 and parameters: {'k': 6, 'metric': 'dinf', 'scaler': <mlkit.preprocessing.scalers.StandardScaler object at 0x000001CDB27F9100>}. Best is trial 35 with value: 0.9736263735193817.\n",
      "[I 2024-12-04 03:02:45,058] Trial 52 finished with value: 0.9736263735193817 and parameters: {'k': 5, 'metric': 'd2', 'scaler': <mlkit.preprocessing.scalers.StandardScaler object at 0x000001CDB27F95E0>}. Best is trial 35 with value: 0.9736263735193817.\n",
      "[I 2024-12-04 03:02:46,618] Trial 53 finished with value: 0.9736263735193817 and parameters: {'k': 5, 'metric': 'd2', 'scaler': <mlkit.preprocessing.scalers.StandardScaler object at 0x000001CDB27F9190>}. Best is trial 35 with value: 0.9736263735193817.\n",
      "[I 2024-12-04 03:02:48,146] Trial 54 finished with value: 0.9538461537413356 and parameters: {'k': 28, 'metric': 'd2', 'scaler': <mlkit.preprocessing.scalers.StandardScaler object at 0x000001CDB27F9100>}. Best is trial 35 with value: 0.9736263735193817.\n",
      "[I 2024-12-04 03:02:49,841] Trial 55 finished with value: 0.9670329669266998 and parameters: {'k': 8, 'metric': 'd2', 'scaler': <mlkit.preprocessing.scalers.StandardScaler object at 0x000001CDB2CD3C40>}. Best is trial 35 with value: 0.9736263735193817.\n",
      "[I 2024-12-04 03:02:51,119] Trial 56 finished with value: 0.9736263735193817 and parameters: {'k': 5, 'metric': 'd2', 'scaler': <mlkit.preprocessing.scalers.StandardScaler object at 0x000001CDB2CD3310>}. Best is trial 35 with value: 0.9736263735193817.\n",
      "[I 2024-12-04 03:02:52,555] Trial 57 finished with value: 0.9626373625315784 and parameters: {'k': 9, 'metric': 'd2', 'scaler': <mlkit.preprocessing.scalers.StandardScaler object at 0x000001CDB2CD32B0>}. Best is trial 35 with value: 0.9736263735193817.\n",
      "[I 2024-12-04 03:02:53,954] Trial 58 finished with value: 0.964835164729139 and parameters: {'k': 7, 'metric': 'd2', 'scaler': <mlkit.preprocessing.scalers.StandardScaler object at 0x000001CDB2CD3310>}. Best is trial 35 with value: 0.9736263735193817.\n",
      "[I 2024-12-04 03:02:55,382] Trial 59 finished with value: 0.9736263735193817 and parameters: {'k': 5, 'metric': 'd2', 'scaler': <mlkit.preprocessing.scalers.StandardScaler object at 0x000001CDB2CD3CA0>}. Best is trial 35 with value: 0.9736263735193817.\n",
      "[I 2024-12-04 03:02:56,772] Trial 60 finished with value: 0.9582417581364571 and parameters: {'k': 12, 'metric': 'd2', 'scaler': <mlkit.preprocessing.scalers.StandardScaler object at 0x000001CDB2CD3EE0>}. Best is trial 35 with value: 0.9736263735193817.\n",
      "[I 2024-12-04 03:02:58,043] Trial 61 finished with value: 0.9736263735193817 and parameters: {'k': 5, 'metric': 'd2', 'scaler': <mlkit.preprocessing.scalers.StandardScaler object at 0x000001CDB2CD31F0>}. Best is trial 35 with value: 0.9736263735193817.\n",
      "[I 2024-12-04 03:02:59,443] Trial 62 finished with value: 0.9692307691242604 and parameters: {'k': 6, 'metric': 'd2', 'scaler': <mlkit.preprocessing.scalers.StandardScaler object at 0x000001CDB2CD39A0>}. Best is trial 35 with value: 0.9736263735193817.\n",
      "[I 2024-12-04 03:03:00,787] Trial 63 finished with value: 0.9626373625315784 and parameters: {'k': 9, 'metric': 'd2', 'scaler': <mlkit.preprocessing.scalers.StandardScaler object at 0x000001CDB2CD3850>}. Best is trial 35 with value: 0.9736263735193817.\n",
      "[I 2024-12-04 03:03:02,143] Trial 64 finished with value: 0.964835164729139 and parameters: {'k': 7, 'metric': 'd2', 'scaler': <mlkit.preprocessing.scalers.StandardScaler object at 0x000001CDB2CD3A90>}. Best is trial 35 with value: 0.9736263735193817.\n",
      "[I 2024-12-04 03:03:03,490] Trial 65 finished with value: 0.9736263735193817 and parameters: {'k': 5, 'metric': 'd2', 'scaler': <mlkit.preprocessing.scalers.StandardScaler object at 0x000001CDB2CAF0D0>}. Best is trial 35 with value: 0.9736263735193817.\n",
      "[I 2024-12-04 03:03:05,315] Trial 66 finished with value: 0.9560439559388965 and parameters: {'k': 10, 'metric': 'd2', 'scaler': <mlkit.preprocessing.scalers.StandardScaler object at 0x000001CDB2CAF700>}. Best is trial 35 with value: 0.9736263735193817.\n",
      "[I 2024-12-04 03:03:06,846] Trial 67 finished with value: 0.9692307691242604 and parameters: {'k': 6, 'metric': 'd2', 'scaler': <mlkit.preprocessing.scalers.StandardScaler object at 0x000001CDB2CAFC70>}. Best is trial 35 with value: 0.9736263735193817.\n",
      "[I 2024-12-04 03:03:08,535] Trial 68 finished with value: 0.9670329669266998 and parameters: {'k': 8, 'metric': 'd2', 'scaler': <mlkit.preprocessing.scalers.StandardScaler object at 0x000001CDB2CAFAC0>}. Best is trial 35 with value: 0.9736263735193817.\n",
      "[I 2024-12-04 03:03:10,516] Trial 69 finished with value: 0.9736263735193817 and parameters: {'k': 5, 'metric': 'd2', 'scaler': <mlkit.preprocessing.scalers.StandardScaler object at 0x000001CDB2CAF760>}. Best is trial 35 with value: 0.9736263735193817.\n",
      "[I 2024-12-04 03:03:12,759] Trial 70 finished with value: 0.9472527471486536 and parameters: {'k': 35, 'metric': 'd2', 'scaler': <mlkit.preprocessing.scalers.StandardScaler object at 0x000001CDB2CAF820>}. Best is trial 35 with value: 0.9736263735193817.\n",
      "[I 2024-12-04 03:03:14,757] Trial 71 finished with value: 0.9736263735193817 and parameters: {'k': 5, 'metric': 'd2', 'scaler': <mlkit.preprocessing.scalers.StandardScaler object at 0x000001CDB2CAF400>}. Best is trial 35 with value: 0.9736263735193817.\n",
      "[I 2024-12-04 03:03:16,400] Trial 72 finished with value: 0.964835164729139 and parameters: {'k': 7, 'metric': 'd2', 'scaler': <mlkit.preprocessing.scalers.StandardScaler object at 0x000001CDB2CAF340>}. Best is trial 35 with value: 0.9736263735193817.\n",
      "[I 2024-12-04 03:03:18,148] Trial 73 finished with value: 0.9626373625315784 and parameters: {'k': 9, 'metric': 'd2', 'scaler': <mlkit.preprocessing.scalers.StandardScaler object at 0x000001CDB2CAFD90>}. Best is trial 35 with value: 0.9736263735193817.\n",
      "[I 2024-12-04 03:03:19,517] Trial 74 finished with value: 0.951648351543775 and parameters: {'k': 5, 'metric': 'dinf', 'scaler': <mlkit.preprocessing.scalers.StandardScaler object at 0x000001CDB2CAFD30>}. Best is trial 35 with value: 0.9736263735193817.\n",
      "[I 2024-12-04 03:03:21,058] Trial 75 finished with value: 0.9692307691242604 and parameters: {'k': 6, 'metric': 'd2', 'scaler': <mlkit.preprocessing.scalers.StandardScaler object at 0x000001CDB2CAF2E0>}. Best is trial 35 with value: 0.9736263735193817.\n",
      "[I 2024-12-04 03:03:22,378] Trial 76 finished with value: 0.9384615383584108 and parameters: {'k': 47, 'metric': 'd2', 'scaler': <mlkit.preprocessing.scalers.StandardScaler object at 0x000001CDB0749A90>}. Best is trial 35 with value: 0.9736263735193817.\n",
      "[I 2024-12-04 03:03:24,077] Trial 77 finished with value: 0.9604395603340178 and parameters: {'k': 11, 'metric': 'd2', 'scaler': <mlkit.preprocessing.scalers.StandardScaler object at 0x000001CDB2CAF4C0>}. Best is trial 35 with value: 0.9736263735193817.\n",
      "[I 2024-12-04 03:03:25,364] Trial 78 finished with value: 0.9670329669266998 and parameters: {'k': 8, 'metric': 'd2', 'scaler': <mlkit.preprocessing.scalers.StandardScaler object at 0x000001CDB2CAF250>}. Best is trial 35 with value: 0.9736263735193817.\n",
      "[I 2024-12-04 03:03:26,767] Trial 79 finished with value: 0.9538461537413356 and parameters: {'k': 13, 'metric': 'd2', 'scaler': <mlkit.preprocessing.scalers.StandardScaler object at 0x000001CDB247D610>}. Best is trial 35 with value: 0.9736263735193817.\n",
      "[I 2024-12-04 03:03:28,078] Trial 80 finished with value: 0.9560439559388965 and parameters: {'k': 10, 'metric': 'd2', 'scaler': <mlkit.preprocessing.scalers.StandardScaler object at 0x000001CDB073D370>}. Best is trial 35 with value: 0.9736263735193817.\n",
      "[I 2024-12-04 03:03:29,717] Trial 81 finished with value: 0.9736263735193817 and parameters: {'k': 5, 'metric': 'd2', 'scaler': <mlkit.preprocessing.scalers.StandardScaler object at 0x000001CDB27396A0>}. Best is trial 35 with value: 0.9736263735193817.\n",
      "[I 2024-12-04 03:03:31,102] Trial 82 finished with value: 0.9692307691242604 and parameters: {'k': 6, 'metric': 'd2', 'scaler': <mlkit.preprocessing.scalers.StandardScaler object at 0x000001CDB2729EE0>}. Best is trial 35 with value: 0.9736263735193817.\n",
      "[I 2024-12-04 03:03:32,944] Trial 83 finished with value: 0.9736263735193817 and parameters: {'k': 5, 'metric': 'd2', 'scaler': <mlkit.preprocessing.scalers.StandardScaler object at 0x000001CDB2739640>}. Best is trial 35 with value: 0.9736263735193817.\n",
      "[I 2024-12-04 03:03:34,405] Trial 84 finished with value: 0.964835164729139 and parameters: {'k': 7, 'metric': 'd2', 'scaler': <mlkit.preprocessing.scalers.StandardScaler object at 0x000001CDB27391C0>}. Best is trial 35 with value: 0.9736263735193817.\n",
      "[I 2024-12-04 03:03:35,612] Trial 85 finished with value: 0.9494505493462144 and parameters: {'k': 8, 'metric': 'dinf', 'scaler': <mlkit.preprocessing.scalers.StandardScaler object at 0x000001CDB2729EE0>}. Best is trial 35 with value: 0.9736263735193817.\n",
      "[I 2024-12-04 03:03:37,536] Trial 86 finished with value: 0.9626373625315784 and parameters: {'k': 9, 'metric': 'd2', 'scaler': <mlkit.preprocessing.scalers.StandardScaler object at 0x000001CDB27396A0>}. Best is trial 35 with value: 0.9736263735193817.\n",
      "[I 2024-12-04 03:03:39,566] Trial 87 finished with value: 0.9692307691242604 and parameters: {'k': 6, 'metric': 'd2', 'scaler': <mlkit.preprocessing.scalers.StandardScaler object at 0x000001CDB272C0A0>}. Best is trial 35 with value: 0.9736263735193817.\n",
      "[I 2024-12-04 03:03:41,189] Trial 88 finished with value: 0.942857142753532 and parameters: {'k': 44, 'metric': 'd2', 'scaler': <mlkit.preprocessing.scalers.StandardScaler object at 0x000001CDB2739220>}. Best is trial 35 with value: 0.9736263735193817.\n",
      "[I 2024-12-04 03:03:42,645] Trial 89 finished with value: 0.964835164729139 and parameters: {'k': 7, 'metric': 'd2', 'scaler': <mlkit.preprocessing.scalers.StandardScaler object at 0x000001CDB1B5C670>}. Best is trial 35 with value: 0.9736263735193817.\n",
      "[I 2024-12-04 03:03:44,267] Trial 90 finished with value: 0.9736263735193817 and parameters: {'k': 5, 'metric': 'd2', 'scaler': <mlkit.preprocessing.scalers.StandardScaler object at 0x000001CDB2D568B0>}. Best is trial 35 with value: 0.9736263735193817.\n",
      "[I 2024-12-04 03:03:46,623] Trial 91 finished with value: 0.9736263735193817 and parameters: {'k': 5, 'metric': 'd2', 'scaler': <mlkit.preprocessing.scalers.StandardScaler object at 0x000001CDB27390A0>}. Best is trial 35 with value: 0.9736263735193817.\n",
      "[I 2024-12-04 03:03:48,143] Trial 92 finished with value: 0.9692307691242604 and parameters: {'k': 6, 'metric': 'd2', 'scaler': <mlkit.preprocessing.scalers.StandardScaler object at 0x000001CDB2739E50>}. Best is trial 35 with value: 0.9736263735193817.\n",
      "[I 2024-12-04 03:03:50,233] Trial 93 finished with value: 0.9560439559388965 and parameters: {'k': 26, 'metric': 'd2', 'scaler': <mlkit.preprocessing.scalers.StandardScaler object at 0x000001CDB2CA2580>}. Best is trial 35 with value: 0.9736263735193817.\n",
      "[I 2024-12-04 03:03:51,999] Trial 94 finished with value: 0.9670329669266998 and parameters: {'k': 8, 'metric': 'd2', 'scaler': <mlkit.preprocessing.scalers.StandardScaler object at 0x000001CDB2739430>}. Best is trial 35 with value: 0.9736263735193817.\n",
      "[I 2024-12-04 03:03:54,633] Trial 95 finished with value: 0.9692307691242604 and parameters: {'k': 6, 'metric': 'd2', 'scaler': <mlkit.preprocessing.scalers.StandardScaler object at 0x000001CDB2729C40>}. Best is trial 35 with value: 0.9736263735193817.\n",
      "[I 2024-12-04 03:03:56,270] Trial 96 finished with value: 0.9604395603340178 and parameters: {'k': 11, 'metric': 'd2', 'scaler': <mlkit.preprocessing.scalers.StandardScaler object at 0x000001CDB2739460>}. Best is trial 35 with value: 0.9736263735193817.\n",
      "[I 2024-12-04 03:03:57,654] Trial 97 finished with value: 0.964835164729139 and parameters: {'k': 7, 'metric': 'd2', 'scaler': <mlkit.preprocessing.scalers.StandardScaler object at 0x000001CDB290B940>}. Best is trial 35 with value: 0.9736263735193817.\n",
      "[I 2024-12-04 03:03:58,901] Trial 98 finished with value: 0.9428571427535323 and parameters: {'k': 9, 'metric': 'dinf', 'scaler': <mlkit.preprocessing.scalers.StandardScaler object at 0x000001CDB290BE80>}. Best is trial 35 with value: 0.9736263735193817.\n",
      "[I 2024-12-04 03:04:00,479] Trial 99 finished with value: 0.9736263735193817 and parameters: {'k': 5, 'metric': 'd2', 'scaler': <mlkit.preprocessing.scalers.StandardScaler object at 0x000001CDB27392E0>}. Best is trial 35 with value: 0.9736263735193817.\n",
      "[I 2024-12-04 03:04:01,820] Trial 100 finished with value: 0.9670329669266998 and parameters: {'k': 8, 'metric': 'd2', 'scaler': <mlkit.preprocessing.scalers.StandardScaler object at 0x000001CDB23839D0>}. Best is trial 35 with value: 0.9736263735193817.\n",
      "[I 2024-12-04 03:04:03,384] Trial 101 finished with value: 0.9736263735193817 and parameters: {'k': 5, 'metric': 'd2', 'scaler': <mlkit.preprocessing.scalers.StandardScaler object at 0x000001CDB290B880>}. Best is trial 35 with value: 0.9736263735193817.\n",
      "[I 2024-12-04 03:04:04,886] Trial 102 finished with value: 0.9736263735193817 and parameters: {'k': 5, 'metric': 'd2', 'scaler': <mlkit.preprocessing.scalers.StandardScaler object at 0x000001CDB290BA30>}. Best is trial 35 with value: 0.9736263735193817.\n",
      "[I 2024-12-04 03:04:06,179] Trial 103 finished with value: 0.9736263735193817 and parameters: {'k': 5, 'metric': 'd2', 'scaler': <mlkit.preprocessing.scalers.StandardScaler object at 0x000001CDB2383640>}. Best is trial 35 with value: 0.9736263735193817.\n",
      "[I 2024-12-04 03:04:07,529] Trial 104 finished with value: 0.9692307691242604 and parameters: {'k': 6, 'metric': 'd2', 'scaler': <mlkit.preprocessing.scalers.StandardScaler object at 0x000001CDB09C40A0>}. Best is trial 35 with value: 0.9736263735193817.\n",
      "[I 2024-12-04 03:04:08,889] Trial 105 finished with value: 0.964835164729139 and parameters: {'k': 7, 'metric': 'd2', 'scaler': <mlkit.preprocessing.scalers.StandardScaler object at 0x000001CDB290BD90>}. Best is trial 35 with value: 0.9736263735193817.\n",
      "[I 2024-12-04 03:04:10,149] Trial 106 finished with value: 0.9560439559388965 and parameters: {'k': 10, 'metric': 'd2', 'scaler': <mlkit.preprocessing.scalers.StandardScaler object at 0x000001CDADBDD790>}. Best is trial 35 with value: 0.9736263735193817.\n",
      "[I 2024-12-04 03:04:11,494] Trial 107 finished with value: 0.964835164729139 and parameters: {'k': 7, 'metric': 'd2', 'scaler': <mlkit.preprocessing.scalers.StandardScaler object at 0x000001CDB0944BE0>}. Best is trial 35 with value: 0.9736263735193817.\n",
      "[I 2024-12-04 03:04:13,020] Trial 108 finished with value: 0.9692307691242604 and parameters: {'k': 6, 'metric': 'd2', 'scaler': <mlkit.preprocessing.scalers.StandardScaler object at 0x000001CDB290B880>}. Best is trial 35 with value: 0.9736263735193817.\n",
      "[I 2024-12-04 03:04:14,306] Trial 109 finished with value: 0.9626373625315784 and parameters: {'k': 9, 'metric': 'd2', 'scaler': <mlkit.preprocessing.scalers.StandardScaler object at 0x000001CDB23837F0>}. Best is trial 35 with value: 0.9736263735193817.\n",
      "[I 2024-12-04 03:04:15,596] Trial 110 finished with value: 0.9670329669266998 and parameters: {'k': 8, 'metric': 'd2', 'scaler': <mlkit.preprocessing.scalers.StandardScaler object at 0x000001CDB290BF10>}. Best is trial 35 with value: 0.9736263735193817.\n",
      "[I 2024-12-04 03:04:16,935] Trial 111 finished with value: 0.9736263735193817 and parameters: {'k': 5, 'metric': 'd2', 'scaler': <mlkit.preprocessing.scalers.StandardScaler object at 0x000001CDB0944DF0>}. Best is trial 35 with value: 0.9736263735193817.\n",
      "[I 2024-12-04 03:04:18,440] Trial 112 finished with value: 0.9692307691242604 and parameters: {'k': 6, 'metric': 'd2', 'scaler': <mlkit.preprocessing.scalers.StandardScaler object at 0x000001CDB28A6460>}. Best is trial 35 with value: 0.9736263735193817.\n",
      "[I 2024-12-04 03:04:19,847] Trial 113 finished with value: 0.9736263735193817 and parameters: {'k': 5, 'metric': 'd2', 'scaler': <mlkit.preprocessing.scalers.StandardScaler object at 0x000001CDB09C4310>}. Best is trial 35 with value: 0.9736263735193817.\n",
      "[I 2024-12-04 03:04:21,348] Trial 114 finished with value: 0.964835164729139 and parameters: {'k': 7, 'metric': 'd2', 'scaler': <mlkit.preprocessing.scalers.StandardScaler object at 0x000001CDB28A6580>}. Best is trial 35 with value: 0.9736263735193817.\n",
      "[I 2024-12-04 03:04:22,874] Trial 115 finished with value: 0.9736263735193817 and parameters: {'k': 5, 'metric': 'd2', 'scaler': <mlkit.preprocessing.scalers.StandardScaler object at 0x000001CDB09C4310>}. Best is trial 35 with value: 0.9736263735193817.\n",
      "[I 2024-12-04 03:04:24,377] Trial 116 finished with value: 0.9670329669266998 and parameters: {'k': 8, 'metric': 'd2', 'scaler': <mlkit.preprocessing.scalers.StandardScaler object at 0x000001CDB09C4250>}. Best is trial 35 with value: 0.9736263735193817.\n",
      "[I 2024-12-04 03:04:25,782] Trial 117 finished with value: 0.945054944951093 and parameters: {'k': 6, 'metric': 'dinf', 'scaler': <mlkit.preprocessing.scalers.StandardScaler object at 0x000001CDB284D070>}. Best is trial 35 with value: 0.9736263735193817.\n",
      "[I 2024-12-04 03:04:27,328] Trial 118 finished with value: 0.964835164729139 and parameters: {'k': 7, 'metric': 'd2', 'scaler': <mlkit.preprocessing.scalers.StandardScaler object at 0x000001CDB284DDC0>}. Best is trial 35 with value: 0.9736263735193817.\n",
      "[I 2024-12-04 03:04:28,778] Trial 119 finished with value: 0.9736263735193817 and parameters: {'k': 5, 'metric': 'd2', 'scaler': <mlkit.preprocessing.scalers.StandardScaler object at 0x000001CDB2852C40>}. Best is trial 35 with value: 0.9736263735193817.\n",
      "[I 2024-12-04 03:04:30,262] Trial 120 finished with value: 0.9626373625315784 and parameters: {'k': 9, 'metric': 'd2', 'scaler': <mlkit.preprocessing.scalers.StandardScaler object at 0x000001CDB284DD00>}. Best is trial 35 with value: 0.9736263735193817.\n",
      "[I 2024-12-04 03:04:31,927] Trial 121 finished with value: 0.9736263735193817 and parameters: {'k': 5, 'metric': 'd2', 'scaler': <mlkit.preprocessing.scalers.StandardScaler object at 0x000001CDB284D460>}. Best is trial 35 with value: 0.9736263735193817.\n",
      "[I 2024-12-04 03:04:33,466] Trial 122 finished with value: 0.9692307691242604 and parameters: {'k': 6, 'metric': 'd2', 'scaler': <mlkit.preprocessing.scalers.StandardScaler object at 0x000001CDB284DE50>}. Best is trial 35 with value: 0.9736263735193817.\n",
      "[I 2024-12-04 03:04:34,893] Trial 123 finished with value: 0.9538461537413356 and parameters: {'k': 31, 'metric': 'd2', 'scaler': <mlkit.preprocessing.scalers.StandardScaler object at 0x000001CDB28A6400>}. Best is trial 35 with value: 0.9736263735193817.\n",
      "[I 2024-12-04 03:04:36,467] Trial 124 finished with value: 0.964835164729139 and parameters: {'k': 7, 'metric': 'd2', 'scaler': <mlkit.preprocessing.scalers.StandardScaler object at 0x000001CDB0952880>}. Best is trial 35 with value: 0.9736263735193817.\n",
      "[I 2024-12-04 03:04:37,884] Trial 125 finished with value: 0.9692307691242604 and parameters: {'k': 6, 'metric': 'd2', 'scaler': <mlkit.preprocessing.scalers.StandardScaler object at 0x000001CDB28A6400>}. Best is trial 35 with value: 0.9736263735193817.\n",
      "[I 2024-12-04 03:04:39,444] Trial 126 finished with value: 0.9736263735193817 and parameters: {'k': 5, 'metric': 'd2', 'scaler': <mlkit.preprocessing.scalers.StandardScaler object at 0x000001CDB09B8730>}. Best is trial 35 with value: 0.9736263735193817.\n",
      "[I 2024-12-04 03:04:41,025] Trial 127 finished with value: 0.9670329669266998 and parameters: {'k': 8, 'metric': 'd2', 'scaler': <mlkit.preprocessing.scalers.StandardScaler object at 0x000001CDB28A6550>}. Best is trial 35 with value: 0.9736263735193817.\n",
      "[I 2024-12-04 03:04:42,380] Trial 128 finished with value: 0.9516483515437748 and parameters: {'k': 23, 'metric': 'd2', 'scaler': <mlkit.preprocessing.scalers.StandardScaler object at 0x000001CDB09522E0>}. Best is trial 35 with value: 0.9736263735193817.\n",
      "[I 2024-12-04 03:04:43,745] Trial 129 finished with value: 0.964835164729139 and parameters: {'k': 7, 'metric': 'd2', 'scaler': <mlkit.preprocessing.scalers.StandardScaler object at 0x000001CDB284D3D0>}. Best is trial 35 with value: 0.9736263735193817.\n",
      "[I 2024-12-04 03:04:45,508] Trial 130 finished with value: 0.9560439559388965 and parameters: {'k': 10, 'metric': 'd2', 'scaler': <mlkit.preprocessing.scalers.StandardScaler object at 0x000001CDB0951280>}. Best is trial 35 with value: 0.9736263735193817.\n",
      "[I 2024-12-04 03:04:47,027] Trial 131 finished with value: 0.9736263735193817 and parameters: {'k': 5, 'metric': 'd2', 'scaler': <mlkit.preprocessing.scalers.StandardScaler object at 0x000001CDB0952A30>}. Best is trial 35 with value: 0.9736263735193817.\n",
      "[I 2024-12-04 03:04:48,520] Trial 132 finished with value: 0.9692307691242604 and parameters: {'k': 6, 'metric': 'd2', 'scaler': <mlkit.preprocessing.scalers.StandardScaler object at 0x000001CDB094A220>}. Best is trial 35 with value: 0.9736263735193817.\n",
      "[I 2024-12-04 03:04:49,996] Trial 133 finished with value: 0.9736263735193817 and parameters: {'k': 5, 'metric': 'd2', 'scaler': <mlkit.preprocessing.scalers.StandardScaler object at 0x000001CDB0950E50>}. Best is trial 35 with value: 0.9736263735193817.\n",
      "[I 2024-12-04 03:04:51,512] Trial 134 finished with value: 0.9692307691242604 and parameters: {'k': 6, 'metric': 'd2', 'scaler': <mlkit.preprocessing.scalers.StandardScaler object at 0x000001CDB094A4F0>}. Best is trial 35 with value: 0.9736263735193817.\n",
      "[I 2024-12-04 03:04:52,983] Trial 135 finished with value: 0.9736263735193817 and parameters: {'k': 5, 'metric': 'd2', 'scaler': <mlkit.preprocessing.scalers.StandardScaler object at 0x000001CDB07D9850>}. Best is trial 35 with value: 0.9736263735193817.\n",
      "[I 2024-12-04 03:04:54,417] Trial 136 finished with value: 0.9670329669266998 and parameters: {'k': 8, 'metric': 'd2', 'scaler': <mlkit.preprocessing.scalers.StandardScaler object at 0x000001CDB094AC10>}. Best is trial 35 with value: 0.9736263735193817.\n",
      "[I 2024-12-04 03:04:55,993] Trial 137 finished with value: 0.964835164729139 and parameters: {'k': 7, 'metric': 'd2', 'scaler': <mlkit.preprocessing.scalers.StandardScaler object at 0x000001CDB07D9850>}. Best is trial 35 with value: 0.9736263735193817.\n",
      "[I 2024-12-04 03:04:57,153] Trial 138 finished with value: 0.964835164729139 and parameters: {'k': 6, 'metric': 'dinf', 'scaler': <mlkit.preprocessing.scalers.MinMaxScaler object at 0x000001CDB094A040>}. Best is trial 35 with value: 0.9736263735193817.\n",
      "[I 2024-12-04 03:04:58,760] Trial 139 finished with value: 0.9736263735193817 and parameters: {'k': 5, 'metric': 'd2', 'scaler': <mlkit.preprocessing.scalers.StandardScaler object at 0x000001CDB0745820>}. Best is trial 35 with value: 0.9736263735193817.\n",
      "[I 2024-12-04 03:05:00,307] Trial 140 finished with value: 0.964835164729139 and parameters: {'k': 7, 'metric': 'd2', 'scaler': <mlkit.preprocessing.scalers.StandardScaler object at 0x000001CDB0754670>}. Best is trial 35 with value: 0.9736263735193817.\n",
      "[I 2024-12-04 03:05:01,738] Trial 141 finished with value: 0.9736263735193817 and parameters: {'k': 5, 'metric': 'd2', 'scaler': <mlkit.preprocessing.scalers.StandardScaler object at 0x000001CDB094A0D0>}. Best is trial 35 with value: 0.9736263735193817.\n",
      "[I 2024-12-04 03:05:03,047] Trial 142 finished with value: 0.9692307691242604 and parameters: {'k': 6, 'metric': 'd2', 'scaler': <mlkit.preprocessing.scalers.StandardScaler object at 0x000001CDB0754910>}. Best is trial 35 with value: 0.9736263735193817.\n",
      "[I 2024-12-04 03:05:04,304] Trial 143 finished with value: 0.9736263735193817 and parameters: {'k': 5, 'metric': 'd2', 'scaler': <mlkit.preprocessing.scalers.StandardScaler object at 0x000001CDB094A8E0>}. Best is trial 35 with value: 0.9736263735193817.\n",
      "[I 2024-12-04 03:05:05,663] Trial 144 finished with value: 0.9670329669266998 and parameters: {'k': 8, 'metric': 'd2', 'scaler': <mlkit.preprocessing.scalers.StandardScaler object at 0x000001CDB094A130>}. Best is trial 35 with value: 0.9736263735193817.\n",
      "[I 2024-12-04 03:05:07,138] Trial 145 finished with value: 0.9692307691242604 and parameters: {'k': 6, 'metric': 'd2', 'scaler': <mlkit.preprocessing.scalers.StandardScaler object at 0x000001CDB0745FD0>}. Best is trial 35 with value: 0.9736263735193817.\n",
      "[I 2024-12-04 03:05:08,488] Trial 146 finished with value: 0.9736263735193817 and parameters: {'k': 5, 'metric': 'd2', 'scaler': <mlkit.preprocessing.scalers.StandardScaler object at 0x000001CDB2D5BAC0>}. Best is trial 35 with value: 0.9736263735193817.\n",
      "[I 2024-12-04 03:05:10,128] Trial 147 finished with value: 0.9472527471486536 and parameters: {'k': 39, 'metric': 'd2', 'scaler': <mlkit.preprocessing.scalers.StandardScaler object at 0x000001CDB2D5BE80>}. Best is trial 35 with value: 0.9736263735193817.\n",
      "[I 2024-12-04 03:05:11,435] Trial 148 finished with value: 0.964835164729139 and parameters: {'k': 7, 'metric': 'd2', 'scaler': <mlkit.preprocessing.scalers.StandardScaler object at 0x000001CDB2D5B8E0>}. Best is trial 35 with value: 0.9736263735193817.\n",
      "[I 2024-12-04 03:05:12,666] Trial 149 finished with value: 0.9626373625315784 and parameters: {'k': 9, 'metric': 'd2', 'scaler': <mlkit.preprocessing.scalers.StandardScaler object at 0x000001CDB2D5B5B0>}. Best is trial 35 with value: 0.9736263735193817.\n",
      "[I 2024-12-04 03:05:13,874] Trial 150 finished with value: 0.9692307691242604 and parameters: {'k': 6, 'metric': 'd2', 'scaler': <mlkit.preprocessing.scalers.StandardScaler object at 0x000001CDB2D5BEE0>}. Best is trial 35 with value: 0.9736263735193817.\n",
      "[I 2024-12-04 03:05:15,058] Trial 151 finished with value: 0.9736263735193817 and parameters: {'k': 5, 'metric': 'd2', 'scaler': <mlkit.preprocessing.scalers.StandardScaler object at 0x000001CDB2D5BB20>}. Best is trial 35 with value: 0.9736263735193817.\n",
      "[I 2024-12-04 03:05:16,335] Trial 152 finished with value: 0.9736263735193817 and parameters: {'k': 5, 'metric': 'd2', 'scaler': <mlkit.preprocessing.scalers.StandardScaler object at 0x000001CDB2D5B1F0>}. Best is trial 35 with value: 0.9736263735193817.\n",
      "[I 2024-12-04 03:05:17,556] Trial 153 finished with value: 0.964835164729139 and parameters: {'k': 7, 'metric': 'd2', 'scaler': <mlkit.preprocessing.scalers.StandardScaler object at 0x000001CDB2D5B760>}. Best is trial 35 with value: 0.9736263735193817.\n",
      "[I 2024-12-04 03:05:18,753] Trial 154 finished with value: 0.9736263735193817 and parameters: {'k': 5, 'metric': 'd2', 'scaler': <mlkit.preprocessing.scalers.StandardScaler object at 0x000001CDB28482B0>}. Best is trial 35 with value: 0.9736263735193817.\n",
      "[I 2024-12-04 03:05:19,964] Trial 155 finished with value: 0.9670329669266998 and parameters: {'k': 8, 'metric': 'd2', 'scaler': <mlkit.preprocessing.scalers.StandardScaler object at 0x000001CDB2848070>}. Best is trial 35 with value: 0.9736263735193817.\n",
      "[I 2024-12-04 03:05:21,043] Trial 156 finished with value: 0.9450549449510929 and parameters: {'k': 20, 'metric': 'd1', 'scaler': <mlkit.preprocessing.scalers.StandardScaler object at 0x000001CDB2848490>}. Best is trial 35 with value: 0.9736263735193817.\n",
      "[I 2024-12-04 03:05:22,291] Trial 157 finished with value: 0.9692307691242604 and parameters: {'k': 6, 'metric': 'd2', 'scaler': <mlkit.preprocessing.scalers.StandardScaler object at 0x000001CDB2848A60>}. Best is trial 35 with value: 0.9736263735193817.\n",
      "[I 2024-12-04 03:05:23,530] Trial 158 finished with value: 0.964835164729139 and parameters: {'k': 7, 'metric': 'd2', 'scaler': <mlkit.preprocessing.scalers.StandardScaler object at 0x000001CDB2848490>}. Best is trial 35 with value: 0.9736263735193817.\n",
      "[I 2024-12-04 03:05:24,762] Trial 159 finished with value: 0.9472527471486536 and parameters: {'k': 35, 'metric': 'd2', 'scaler': <mlkit.preprocessing.scalers.StandardScaler object at 0x000001CDB28486D0>}. Best is trial 35 with value: 0.9736263735193817.\n",
      "[I 2024-12-04 03:05:25,926] Trial 160 finished with value: 0.9692307691242604 and parameters: {'k': 5, 'metric': 'd2', 'scaler': <mlkit.preprocessing.scalers.MinMaxScaler object at 0x000001CDB2848AC0>}. Best is trial 35 with value: 0.9736263735193817.\n",
      "[I 2024-12-04 03:05:27,164] Trial 161 finished with value: 0.9692307691242604 and parameters: {'k': 6, 'metric': 'd2', 'scaler': <mlkit.preprocessing.scalers.StandardScaler object at 0x000001CDB2848250>}. Best is trial 35 with value: 0.9736263735193817.\n",
      "[I 2024-12-04 03:05:28,362] Trial 162 finished with value: 0.9736263735193817 and parameters: {'k': 5, 'metric': 'd2', 'scaler': <mlkit.preprocessing.scalers.StandardScaler object at 0x000001CDB2848910>}. Best is trial 35 with value: 0.9736263735193817.\n",
      "[I 2024-12-04 03:05:29,604] Trial 163 finished with value: 0.9736263735193817 and parameters: {'k': 5, 'metric': 'd2', 'scaler': <mlkit.preprocessing.scalers.StandardScaler object at 0x000001CDB2848A30>}. Best is trial 35 with value: 0.9736263735193817.\n",
      "[I 2024-12-04 03:05:30,808] Trial 164 finished with value: 0.9692307691242604 and parameters: {'k': 6, 'metric': 'd2', 'scaler': <mlkit.preprocessing.scalers.StandardScaler object at 0x000001CDB2C5D640>}. Best is trial 35 with value: 0.9736263735193817.\n",
      "[I 2024-12-04 03:05:32,020] Trial 165 finished with value: 0.9692307691242604 and parameters: {'k': 6, 'metric': 'd2', 'scaler': <mlkit.preprocessing.scalers.StandardScaler object at 0x000001CDB2C5D3A0>}. Best is trial 35 with value: 0.9736263735193817.\n",
      "[I 2024-12-04 03:05:33,247] Trial 166 finished with value: 0.9736263735193817 and parameters: {'k': 5, 'metric': 'd2', 'scaler': <mlkit.preprocessing.scalers.StandardScaler object at 0x000001CDB2C5D6D0>}. Best is trial 35 with value: 0.9736263735193817.\n",
      "[I 2024-12-04 03:05:34,331] Trial 167 finished with value: 0.9428571427535323 and parameters: {'k': 7, 'metric': 'dinf', 'scaler': <mlkit.preprocessing.scalers.StandardScaler object at 0x000001CDB2C5D820>}. Best is trial 35 with value: 0.9736263735193817.\n",
      "[I 2024-12-04 03:05:35,598] Trial 168 finished with value: 0.964835164729139 and parameters: {'k': 7, 'metric': 'd2', 'scaler': <mlkit.preprocessing.scalers.StandardScaler object at 0x000001CDB2C5D3A0>}. Best is trial 35 with value: 0.9736263735193817.\n",
      "[I 2024-12-04 03:05:36,839] Trial 169 finished with value: 0.9736263735193817 and parameters: {'k': 5, 'metric': 'd2', 'scaler': <mlkit.preprocessing.scalers.StandardScaler object at 0x000001CDB2C5DAF0>}. Best is trial 35 with value: 0.9736263735193817.\n",
      "[I 2024-12-04 03:05:38,054] Trial 170 finished with value: 0.9670329669266998 and parameters: {'k': 8, 'metric': 'd2', 'scaler': <mlkit.preprocessing.scalers.StandardScaler object at 0x000001CDB2C5D550>}. Best is trial 35 with value: 0.9736263735193817.\n",
      "[I 2024-12-04 03:05:39,339] Trial 171 finished with value: 0.9406593405559714 and parameters: {'k': 49, 'metric': 'd2', 'scaler': <mlkit.preprocessing.scalers.StandardScaler object at 0x000001CDB2C5DAF0>}. Best is trial 35 with value: 0.9736263735193817.\n",
      "[I 2024-12-04 03:05:40,596] Trial 172 finished with value: 0.9736263735193817 and parameters: {'k': 5, 'metric': 'd2', 'scaler': <mlkit.preprocessing.scalers.StandardScaler object at 0x000001CDB2C5DD60>}. Best is trial 35 with value: 0.9736263735193817.\n",
      "[I 2024-12-04 03:05:41,837] Trial 173 finished with value: 0.9692307691242604 and parameters: {'k': 6, 'metric': 'd2', 'scaler': <mlkit.preprocessing.scalers.StandardScaler object at 0x000001CDB2C7B730>}. Best is trial 35 with value: 0.9736263735193817.\n",
      "[I 2024-12-04 03:05:43,100] Trial 174 finished with value: 0.9736263735193817 and parameters: {'k': 5, 'metric': 'd2', 'scaler': <mlkit.preprocessing.scalers.StandardScaler object at 0x000001CDB2C7B3D0>}. Best is trial 35 with value: 0.9736263735193817.\n",
      "[I 2024-12-04 03:05:44,591] Trial 175 finished with value: 0.964835164729139 and parameters: {'k': 7, 'metric': 'd2', 'scaler': <mlkit.preprocessing.scalers.StandardScaler object at 0x000001CDB2C7B6A0>}. Best is trial 35 with value: 0.9736263735193817.\n",
      "[I 2024-12-04 03:05:45,779] Trial 176 finished with value: 0.9692307691242604 and parameters: {'k': 6, 'metric': 'd2', 'scaler': <mlkit.preprocessing.scalers.StandardScaler object at 0x000001CDB2C7B490>}. Best is trial 35 with value: 0.9736263735193817.\n",
      "[I 2024-12-04 03:05:46,981] Trial 177 finished with value: 0.9736263735193817 and parameters: {'k': 5, 'metric': 'd2', 'scaler': <mlkit.preprocessing.scalers.StandardScaler object at 0x000001CDB2C7B250>}. Best is trial 35 with value: 0.9736263735193817.\n",
      "[I 2024-12-04 03:05:48,210] Trial 178 finished with value: 0.9670329669266998 and parameters: {'k': 8, 'metric': 'd2', 'scaler': <mlkit.preprocessing.scalers.StandardScaler object at 0x000001CDB2C7BB80>}. Best is trial 35 with value: 0.9736263735193817.\n",
      "[I 2024-12-04 03:05:49,433] Trial 179 finished with value: 0.9736263735193817 and parameters: {'k': 5, 'metric': 'd2', 'scaler': <mlkit.preprocessing.scalers.StandardScaler object at 0x000001CDB2C7B130>}. Best is trial 35 with value: 0.9736263735193817.\n",
      "[I 2024-12-04 03:05:50,643] Trial 180 finished with value: 0.9692307691242604 and parameters: {'k': 6, 'metric': 'd2', 'scaler': <mlkit.preprocessing.scalers.StandardScaler object at 0x000001CDB2C7B310>}. Best is trial 35 with value: 0.9736263735193817.\n",
      "[I 2024-12-04 03:05:51,888] Trial 181 finished with value: 0.9736263735193817 and parameters: {'k': 5, 'metric': 'd2', 'scaler': <mlkit.preprocessing.scalers.StandardScaler object at 0x000001CDB2C7BC70>}. Best is trial 35 with value: 0.9736263735193817.\n",
      "[I 2024-12-04 03:05:53,197] Trial 182 finished with value: 0.9692307691242604 and parameters: {'k': 6, 'metric': 'd2', 'scaler': <mlkit.preprocessing.scalers.StandardScaler object at 0x000001CDB2C71250>}. Best is trial 35 with value: 0.9736263735193817.\n",
      "[I 2024-12-04 03:05:54,383] Trial 183 finished with value: 0.9736263735193817 and parameters: {'k': 5, 'metric': 'd2', 'scaler': <mlkit.preprocessing.scalers.StandardScaler object at 0x000001CDB2C71640>}. Best is trial 35 with value: 0.9736263735193817.\n",
      "[I 2024-12-04 03:05:55,611] Trial 184 finished with value: 0.9560439559388965 and parameters: {'k': 16, 'metric': 'd2', 'scaler': <mlkit.preprocessing.scalers.StandardScaler object at 0x000001CDB2C71220>}. Best is trial 35 with value: 0.9736263735193817.\n",
      "[I 2024-12-04 03:05:56,871] Trial 185 finished with value: 0.964835164729139 and parameters: {'k': 7, 'metric': 'd2', 'scaler': <mlkit.preprocessing.scalers.StandardScaler object at 0x000001CDB2C714F0>}. Best is trial 35 with value: 0.9736263735193817.\n",
      "[I 2024-12-04 03:05:57,968] Trial 186 finished with value: 0.9626373625315784 and parameters: {'k': 6, 'metric': 'd1', 'scaler': <mlkit.preprocessing.scalers.StandardScaler object at 0x000001CDB2C711F0>}. Best is trial 35 with value: 0.9736263735193817.\n",
      "[I 2024-12-04 03:05:59,191] Trial 187 finished with value: 0.9736263735193817 and parameters: {'k': 5, 'metric': 'd2', 'scaler': <mlkit.preprocessing.scalers.StandardScaler object at 0x000001CDB2C71A00>}. Best is trial 35 with value: 0.9736263735193817.\n",
      "[I 2024-12-04 03:06:00,443] Trial 188 finished with value: 0.964835164729139 and parameters: {'k': 7, 'metric': 'd2', 'scaler': <mlkit.preprocessing.scalers.StandardScaler object at 0x000001CDB2C716A0>}. Best is trial 35 with value: 0.9736263735193817.\n",
      "[I 2024-12-04 03:06:01,820] Trial 189 finished with value: 0.9670329669266998 and parameters: {'k': 6, 'metric': 'd2', 'scaler': <mlkit.preprocessing.scalers.MinMaxScaler object at 0x000001CDB2C71F70>}. Best is trial 35 with value: 0.9736263735193817.\n",
      "[I 2024-12-04 03:06:03,429] Trial 190 finished with value: 0.9736263735193817 and parameters: {'k': 5, 'metric': 'd2', 'scaler': <mlkit.preprocessing.scalers.StandardScaler object at 0x000001CDB2C71940>}. Best is trial 35 with value: 0.9736263735193817.\n",
      "[I 2024-12-04 03:06:05,060] Trial 191 finished with value: 0.9736263735193817 and parameters: {'k': 5, 'metric': 'd2', 'scaler': <mlkit.preprocessing.scalers.StandardScaler object at 0x000001CDB2C71910>}. Best is trial 35 with value: 0.9736263735193817.\n",
      "[I 2024-12-04 03:06:06,411] Trial 192 finished with value: 0.9692307691242604 and parameters: {'k': 6, 'metric': 'd2', 'scaler': <mlkit.preprocessing.scalers.StandardScaler object at 0x000001CDB2C7C4C0>}. Best is trial 35 with value: 0.9736263735193817.\n",
      "[I 2024-12-04 03:06:07,684] Trial 193 finished with value: 0.9692307691242604 and parameters: {'k': 6, 'metric': 'd2', 'scaler': <mlkit.preprocessing.scalers.StandardScaler object at 0x000001CDB2C7C9A0>}. Best is trial 35 with value: 0.9736263735193817.\n",
      "[I 2024-12-04 03:06:08,981] Trial 194 finished with value: 0.9736263735193817 and parameters: {'k': 5, 'metric': 'd2', 'scaler': <mlkit.preprocessing.scalers.StandardScaler object at 0x000001CDB2C7C1F0>}. Best is trial 35 with value: 0.9736263735193817.\n",
      "[I 2024-12-04 03:06:10,258] Trial 195 finished with value: 0.964835164729139 and parameters: {'k': 7, 'metric': 'd2', 'scaler': <mlkit.preprocessing.scalers.StandardScaler object at 0x000001CDB2C7C160>}. Best is trial 35 with value: 0.9736263735193817.\n",
      "[I 2024-12-04 03:06:11,615] Trial 196 finished with value: 0.9736263735193817 and parameters: {'k': 5, 'metric': 'd2', 'scaler': <mlkit.preprocessing.scalers.StandardScaler object at 0x000001CDB2C7C130>}. Best is trial 35 with value: 0.9736263735193817.\n",
      "[I 2024-12-04 03:06:12,727] Trial 197 finished with value: 0.9428571427535323 and parameters: {'k': 7, 'metric': 'dinf', 'scaler': <mlkit.preprocessing.scalers.StandardScaler object at 0x000001CDB2C7C040>}. Best is trial 35 with value: 0.9736263735193817.\n",
      "[I 2024-12-04 03:06:13,965] Trial 198 finished with value: 0.9670329669266998 and parameters: {'k': 8, 'metric': 'd2', 'scaler': <mlkit.preprocessing.scalers.StandardScaler object at 0x000001CDB2C7C310>}. Best is trial 35 with value: 0.9736263735193817.\n",
      "[I 2024-12-04 03:06:15,235] Trial 199 finished with value: 0.9736263735193817 and parameters: {'k': 5, 'metric': 'd2', 'scaler': <mlkit.preprocessing.scalers.StandardScaler object at 0x000001CDB2C7C910>}. Best is trial 35 with value: 0.9736263735193817.\n",
      "[I 2024-12-04 03:06:16,468] Trial 200 finished with value: 0.9692307691242604 and parameters: {'k': 6, 'metric': 'd2', 'scaler': <mlkit.preprocessing.scalers.StandardScaler object at 0x000001CDB2C71F10>}. Best is trial 35 with value: 0.9736263735193817.\n",
      "[I 2024-12-04 03:06:17,650] Trial 201 finished with value: 0.9736263735193817 and parameters: {'k': 5, 'metric': 'd2', 'scaler': <mlkit.preprocessing.scalers.StandardScaler object at 0x000001CDB2C686D0>}. Best is trial 35 with value: 0.9736263735193817.\n",
      "[I 2024-12-04 03:06:18,914] Trial 202 finished with value: 0.9692307691242604 and parameters: {'k': 6, 'metric': 'd2', 'scaler': <mlkit.preprocessing.scalers.StandardScaler object at 0x000001CDB2C688E0>}. Best is trial 35 with value: 0.9736263735193817.\n",
      "[I 2024-12-04 03:06:20,152] Trial 203 finished with value: 0.9736263735193817 and parameters: {'k': 5, 'metric': 'd2', 'scaler': <mlkit.preprocessing.scalers.StandardScaler object at 0x000001CDB2C681F0>}. Best is trial 35 with value: 0.9736263735193817.\n",
      "[I 2024-12-04 03:06:21,417] Trial 204 finished with value: 0.9692307691242604 and parameters: {'k': 6, 'metric': 'd2', 'scaler': <mlkit.preprocessing.scalers.StandardScaler object at 0x000001CDB2C68970>}. Best is trial 35 with value: 0.9736263735193817.\n",
      "[I 2024-12-04 03:06:22,662] Trial 205 finished with value: 0.9736263735193817 and parameters: {'k': 5, 'metric': 'd2', 'scaler': <mlkit.preprocessing.scalers.StandardScaler object at 0x000001CDB2C68C40>}. Best is trial 35 with value: 0.9736263735193817.\n",
      "[I 2024-12-04 03:06:23,925] Trial 206 finished with value: 0.964835164729139 and parameters: {'k': 7, 'metric': 'd2', 'scaler': <mlkit.preprocessing.scalers.StandardScaler object at 0x000001CDB2C68490>}. Best is trial 35 with value: 0.9736263735193817.\n",
      "[I 2024-12-04 03:06:25,191] Trial 207 finished with value: 0.9560439559388965 and parameters: {'k': 26, 'metric': 'd2', 'scaler': <mlkit.preprocessing.scalers.StandardScaler object at 0x000001CDB2C68F70>}. Best is trial 35 with value: 0.9736263735193817.\n",
      "[I 2024-12-04 03:06:26,439] Trial 208 finished with value: 0.9736263735193817 and parameters: {'k': 5, 'metric': 'd2', 'scaler': <mlkit.preprocessing.scalers.StandardScaler object at 0x000001CDB2C68FA0>}. Best is trial 35 with value: 0.9736263735193817.\n",
      "[I 2024-12-04 03:06:27,739] Trial 209 finished with value: 0.964835164729139 and parameters: {'k': 7, 'metric': 'd2', 'scaler': <mlkit.preprocessing.scalers.StandardScaler object at 0x000001CDB2C68580>}. Best is trial 35 with value: 0.9736263735193817.\n",
      "[I 2024-12-04 03:06:28,955] Trial 210 finished with value: 0.9692307691242604 and parameters: {'k': 6, 'metric': 'd2', 'scaler': <mlkit.preprocessing.scalers.StandardScaler object at 0x000001CDB2C672B0>}. Best is trial 35 with value: 0.9736263735193817.\n",
      "[I 2024-12-04 03:06:30,166] Trial 211 finished with value: 0.9736263735193817 and parameters: {'k': 5, 'metric': 'd2', 'scaler': <mlkit.preprocessing.scalers.StandardScaler object at 0x000001CDB2C671C0>}. Best is trial 35 with value: 0.9736263735193817.\n",
      "[I 2024-12-04 03:06:31,417] Trial 212 finished with value: 0.9736263735193817 and parameters: {'k': 5, 'metric': 'd2', 'scaler': <mlkit.preprocessing.scalers.StandardScaler object at 0x000001CDB2C67220>}. Best is trial 35 with value: 0.9736263735193817.\n",
      "[I 2024-12-04 03:06:32,846] Trial 213 finished with value: 0.9736263735193817 and parameters: {'k': 5, 'metric': 'd2', 'scaler': <mlkit.preprocessing.scalers.StandardScaler object at 0x000001CDB2C67A60>}. Best is trial 35 with value: 0.9736263735193817.\n",
      "[I 2024-12-04 03:06:34,114] Trial 214 finished with value: 0.9692307691242604 and parameters: {'k': 6, 'metric': 'd2', 'scaler': <mlkit.preprocessing.scalers.StandardScaler object at 0x000001CDB2C67220>}. Best is trial 35 with value: 0.9736263735193817.\n",
      "[I 2024-12-04 03:06:35,359] Trial 215 finished with value: 0.964835164729139 and parameters: {'k': 7, 'metric': 'd2', 'scaler': <mlkit.preprocessing.scalers.StandardScaler object at 0x000001CDB2C67EE0>}. Best is trial 35 with value: 0.9736263735193817.\n"
     ]
    },
    {
     "ename": "UnboundLocalError",
     "evalue": "local variable 'reg_mode' referenced before assignment",
     "output_type": "error",
     "traceback": [
      "\u001b[1;31m---------------------------------------------------------------------------\u001b[0m",
      "\u001b[1;31mUnboundLocalError\u001b[0m                         Traceback (most recent call last)",
      "Cell \u001b[1;32mIn[7], line 12\u001b[0m\n\u001b[0;32m      3\u001b[0m \u001b[38;5;28;01mfrom\u001b[39;00m \u001b[38;5;21;01mmlkit\u001b[39;00m\u001b[38;5;21;01m.\u001b[39;00m\u001b[38;5;21;01mpreprocessing\u001b[39;00m \u001b[38;5;28;01mimport\u001b[39;00m MinMaxScaler, StandardScaler\n\u001b[0;32m      5\u001b[0m tuner \u001b[38;5;241m=\u001b[39m ModelTuner(model \u001b[38;5;241m=\u001b[39m KNeighborsClassifier(),\n\u001b[0;32m      6\u001b[0m                    hyperparams_space\u001b[38;5;241m=\u001b[39m{\n\u001b[0;32m      7\u001b[0m                        \u001b[38;5;124m\"\u001b[39m\u001b[38;5;124mk\u001b[39m\u001b[38;5;124m\"\u001b[39m: (\u001b[38;5;241m5\u001b[39m, \u001b[38;5;241m50\u001b[39m, \u001b[38;5;241m1\u001b[39m, \u001b[38;5;124m\"\u001b[39m\u001b[38;5;124mint\u001b[39m\u001b[38;5;124m\"\u001b[39m),\n\u001b[1;32m   (...)\u001b[0m\n\u001b[0;32m     10\u001b[0m                    },\n\u001b[0;32m     11\u001b[0m                    timeout\u001b[38;5;241m=\u001b[39m\u001b[38;5;241m300\u001b[39m)\n\u001b[1;32m---> 12\u001b[0m \u001b[43mtuner\u001b[49m\u001b[38;5;241;43m.\u001b[39;49m\u001b[43mfit\u001b[49m\u001b[43m(\u001b[49m\u001b[43mX_train\u001b[49m\u001b[43m,\u001b[49m\u001b[43m \u001b[49m\u001b[43my_train\u001b[49m\u001b[43m)\u001b[49m\n",
      "File \u001b[1;32md:\\ML Algs from scratch\\mlkit\\tune\\ModelTuner.py:121\u001b[0m, in \u001b[0;36mModelTuner.fit\u001b[1;34m(self, X, y)\u001b[0m\n\u001b[0;32m    116\u001b[0m \u001b[38;5;28mself\u001b[39m\u001b[38;5;241m.\u001b[39mstudy\u001b[38;5;241m.\u001b[39moptimize(objective, n_trials \u001b[38;5;241m=\u001b[39m \u001b[38;5;28mself\u001b[39m\u001b[38;5;241m.\u001b[39mn_trials, timeout \u001b[38;5;241m=\u001b[39m \u001b[38;5;28mself\u001b[39m\u001b[38;5;241m.\u001b[39mtimeout,\n\u001b[0;32m    117\u001b[0m                     n_jobs \u001b[38;5;241m=\u001b[39m \u001b[38;5;28mself\u001b[39m\u001b[38;5;241m.\u001b[39mn_jobs, gc_after_trial \u001b[38;5;241m=\u001b[39m \u001b[38;5;28;01mTrue\u001b[39;00m, \n\u001b[0;32m    118\u001b[0m                     show_progress_bar \u001b[38;5;241m=\u001b[39m \u001b[38;5;28mself\u001b[39m\u001b[38;5;241m.\u001b[39mshow_progress_bar)\n\u001b[0;32m    120\u001b[0m best_params \u001b[38;5;241m=\u001b[39m \u001b[38;5;28mself\u001b[39m\u001b[38;5;241m.\u001b[39mstudy\u001b[38;5;241m.\u001b[39mbest_params\n\u001b[1;32m--> 121\u001b[0m \u001b[38;5;28;01mif\u001b[39;00m \u001b[43mreg_mode\u001b[49m \u001b[38;5;129;01min\u001b[39;00m best_params:\n\u001b[0;32m    122\u001b[0m     reg_mode, reg_strength, reg_ratio \u001b[38;5;241m=\u001b[39m (best_params\u001b[38;5;241m.\u001b[39mpop(\u001b[38;5;124m\"\u001b[39m\u001b[38;5;124mreg_mode\u001b[39m\u001b[38;5;124m\"\u001b[39m), best_params\u001b[38;5;241m.\u001b[39mpop(\u001b[38;5;124m\"\u001b[39m\u001b[38;5;124mreg_strength\u001b[39m\u001b[38;5;124m\"\u001b[39m), \n\u001b[0;32m    123\u001b[0m                                         best_params\u001b[38;5;241m.\u001b[39mpop(\u001b[38;5;124m\"\u001b[39m\u001b[38;5;124mreg_ratio\u001b[39m\u001b[38;5;124m\"\u001b[39m))\n\u001b[0;32m    124\u001b[0m     \u001b[38;5;28;01mif\u001b[39;00m reg_mode \u001b[38;5;241m==\u001b[39m \u001b[38;5;124m\"\u001b[39m\u001b[38;5;124melasticnet\u001b[39m\u001b[38;5;124m\"\u001b[39m:\n",
      "\u001b[1;31mUnboundLocalError\u001b[0m: local variable 'reg_mode' referenced before assignment"
     ]
    }
   ],
   "source": [
    "from mlkit.neighbors import KNeighborsClassifier\n",
    "from mlkit.tune import ModelTuner\n",
    "from mlkit.preprocessing import MinMaxScaler, StandardScaler\n",
    "\n",
    "tuner = ModelTuner(model = KNeighborsClassifier(),\n",
    "                   hyperparams_space = {\n",
    "                       \"k\": (5, 50, 1, \"int\"),\n",
    "                       \"metric\": ([\"d1\", \"d2\", \"dinf\"], \"cat\"),\n",
    "                       \"scaler\": ([MinMaxScaler(), StandardScaler()], \"cat\")\n",
    "                   },\n",
    "                   timeout=300)\n",
    "tuner.fit(X_train, y_train)"
   ]
  },
  {
   "cell_type": "code",
   "execution_count": 8,
   "metadata": {},
   "outputs": [
    {
     "data": {
      "text/plain": [
       "{'accuracy': 0.9385964911457372,\n",
       " 'precision': 0.9166666665393519,\n",
       " 'recall': 0.9850746267186457,\n",
       " 'f1': 0.9496402831240621}"
      ]
     },
     "execution_count": 8,
     "metadata": {},
     "output_type": "execute_result"
    }
   ],
   "source": [
    "classifier.score(X_test, y_test)"
   ]
  },
  {
   "cell_type": "code",
   "execution_count": null,
   "metadata": {},
   "outputs": [],
   "source": []
  }
 ],
 "metadata": {
  "kernelspec": {
   "display_name": "Python 3",
   "language": "python",
   "name": "python3"
  },
  "language_info": {
   "codemirror_mode": {
    "name": "ipython",
    "version": 3
   },
   "file_extension": ".py",
   "mimetype": "text/x-python",
   "name": "python",
   "nbconvert_exporter": "python",
   "pygments_lexer": "ipython3",
   "version": "3.9.19"
  }
 },
 "nbformat": 4,
 "nbformat_minor": 2
}
