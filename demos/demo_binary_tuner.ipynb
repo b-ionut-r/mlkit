{
 "cells": [
  {
   "cell_type": "code",
   "execution_count": 1,
   "metadata": {},
   "outputs": [
    {
     "name": "stdout",
     "output_type": "stream",
     "text": [
      "Requirement already satisfied: mlkit in c:\\ml_env\\lib\\site-packages (0.0.1)\n"
     ]
    }
   ],
   "source": [
    "!pip install mlkit"
   ]
  },
  {
   "cell_type": "code",
   "execution_count": 2,
   "metadata": {},
   "outputs": [],
   "source": [
    "import numpy as np\n",
    "import pandas as pd\n",
    "from sklearn.datasets import load_breast_cancer"
   ]
  },
  {
   "cell_type": "code",
   "execution_count": 3,
   "metadata": {},
   "outputs": [],
   "source": [
    "diabetes = load_breast_cancer()\n",
    "features = diabetes.data\n",
    "feature_names = diabetes.feature_names\n",
    "targets = diabetes.target\n",
    "target_names = diabetes.target_names"
   ]
  },
  {
   "cell_type": "code",
   "execution_count": 4,
   "metadata": {},
   "outputs": [
    {
     "data": {
      "text/plain": [
       "(array(['mean radius', 'mean texture', 'mean perimeter', 'mean area',\n",
       "        'mean smoothness', 'mean compactness', 'mean concavity',\n",
       "        'mean concave points', 'mean symmetry', 'mean fractal dimension',\n",
       "        'radius error', 'texture error', 'perimeter error', 'area error',\n",
       "        'smoothness error', 'compactness error', 'concavity error',\n",
       "        'concave points error', 'symmetry error',\n",
       "        'fractal dimension error', 'worst radius', 'worst texture',\n",
       "        'worst perimeter', 'worst area', 'worst smoothness',\n",
       "        'worst compactness', 'worst concavity', 'worst concave points',\n",
       "        'worst symmetry', 'worst fractal dimension'], dtype='<U23'),\n",
       " array([[1.799e+01, 1.038e+01, 1.228e+02, 1.001e+03, 1.184e-01, 2.776e-01,\n",
       "         3.001e-01, 1.471e-01, 2.419e-01, 7.871e-02, 1.095e+00, 9.053e-01,\n",
       "         8.589e+00, 1.534e+02, 6.399e-03, 4.904e-02, 5.373e-02, 1.587e-02,\n",
       "         3.003e-02, 6.193e-03, 2.538e+01, 1.733e+01, 1.846e+02, 2.019e+03,\n",
       "         1.622e-01, 6.656e-01, 7.119e-01, 2.654e-01, 4.601e-01, 1.189e-01],\n",
       "        [2.057e+01, 1.777e+01, 1.329e+02, 1.326e+03, 8.474e-02, 7.864e-02,\n",
       "         8.690e-02, 7.017e-02, 1.812e-01, 5.667e-02, 5.435e-01, 7.339e-01,\n",
       "         3.398e+00, 7.408e+01, 5.225e-03, 1.308e-02, 1.860e-02, 1.340e-02,\n",
       "         1.389e-02, 3.532e-03, 2.499e+01, 2.341e+01, 1.588e+02, 1.956e+03,\n",
       "         1.238e-01, 1.866e-01, 2.416e-01, 1.860e-01, 2.750e-01, 8.902e-02],\n",
       "        [1.969e+01, 2.125e+01, 1.300e+02, 1.203e+03, 1.096e-01, 1.599e-01,\n",
       "         1.974e-01, 1.279e-01, 2.069e-01, 5.999e-02, 7.456e-01, 7.869e-01,\n",
       "         4.585e+00, 9.403e+01, 6.150e-03, 4.006e-02, 3.832e-02, 2.058e-02,\n",
       "         2.250e-02, 4.571e-03, 2.357e+01, 2.553e+01, 1.525e+02, 1.709e+03,\n",
       "         1.444e-01, 4.245e-01, 4.504e-01, 2.430e-01, 3.613e-01, 8.758e-02]]))"
      ]
     },
     "execution_count": 4,
     "metadata": {},
     "output_type": "execute_result"
    }
   ],
   "source": [
    "feature_names, features[:3]"
   ]
  },
  {
   "cell_type": "code",
   "execution_count": 5,
   "metadata": {},
   "outputs": [
    {
     "data": {
      "text/plain": [
       "(array(['malignant', 'benign'], dtype='<U9'),\n",
       " array([0, 0, 0, 0, 0, 0, 0, 0, 0, 0, 0, 0, 0, 0, 0, 0, 0, 0, 0, 1, 1, 1,\n",
       "        0, 0, 0]))"
      ]
     },
     "execution_count": 5,
     "metadata": {},
     "output_type": "execute_result"
    }
   ],
   "source": [
    "target_names, targets[:25]"
   ]
  },
  {
   "cell_type": "code",
   "execution_count": 6,
   "metadata": {},
   "outputs": [],
   "source": [
    "from mlkit.model_selection import train_test_split\n",
    "X_train, X_test, y_train, y_test = train_test_split(features, targets, test_size=0.05, random_state=42)"
   ]
  },
  {
   "cell_type": "code",
   "execution_count": 7,
   "metadata": {},
   "outputs": [
    {
     "name": "stderr",
     "output_type": "stream",
     "text": [
      "[I 2024-12-02 15:02:29,909] A new study created in memory with name: tuner_study\n"
     ]
    },
    {
     "name": "stdout",
     "output_type": "stream",
     "text": [
      "\n",
      "Starting optimization process...\n",
      "\n"
     ]
    },
    {
     "data": {
      "application/vnd.jupyter.widget-view+json": {
       "model_id": "d219f7ebd5e144bab80ad7e4445a2ab7",
       "version_major": 2,
       "version_minor": 0
      },
      "text/plain": [
       "  0%|          | 0/10000 [00:00<?, ?it/s]"
      ]
     },
     "metadata": {},
     "output_type": "display_data"
    },
    {
     "name": "stdout",
     "output_type": "stream",
     "text": [
      "[I 2024-12-02 15:03:02,773] Trial 0 finished with value: 0.9666666665771604 and parameters: {'n_iters': 1000, 'lr': 0.010353506694724486, 'reg_mode': 'l1', 'reg_strength': 0.001872597590876155, 'reg_ratio': 0.6537700828137785, 'method': 'sgd', 'batch_size': 128, 'scaler': <mlkit.preprocessing.scalers.MinMaxScaler object at 0x000002647F77C340>, 'verbose': 0}. Best is trial 0 with value: 0.9666666665771604.\n",
      "[I 2024-12-02 15:03:37,538] Trial 1 finished with value: 0.968518518428841 and parameters: {'n_iters': 1000, 'lr': 0.07349616021641905, 'reg_mode': 'l1', 'reg_strength': 0.002077359336231814, 'reg_ratio': 0.5685307447949708, 'method': 'sgd', 'batch_size': 256, 'scaler': <mlkit.preprocessing.scalers.StandardScaler object at 0x000002647F69D970>, 'verbose': 0}. Best is trial 1 with value: 0.968518518428841.\n",
      "[I 2024-12-02 15:03:49,194] Trial 2 finished with value: 0.9388888888019548 and parameters: {'n_iters': 5000, 'lr': 0.021000136474516994, 'reg_mode': 'elasticnet', 'reg_strength': 0.008272545865070638, 'reg_ratio': 0.7465279459275285, 'method': 'gd', 'batch_size': 128, 'scaler': <mlkit.preprocessing.scalers.MinMaxScaler object at 0x000002647F77CE20>, 'verbose': 0}. Best is trial 1 with value: 0.968518518428841.\n",
      "[I 2024-12-02 15:04:27,229] Trial 3 finished with value: 0.968518518428841 and parameters: {'n_iters': 13000, 'lr': 0.06362635921437752, 'reg_mode': 'elasticnet', 'reg_strength': 0.0010095125304860314, 'reg_ratio': 0.5271955835461705, 'method': 'sgd', 'batch_size': 256, 'scaler': <mlkit.preprocessing.scalers.StandardScaler object at 0x000002647F7975B0>, 'verbose': 0}. Best is trial 1 with value: 0.968518518428841.\n",
      "[I 2024-12-02 15:05:02,979] Trial 4 finished with value: 0.968518518428841 and parameters: {'n_iters': 7000, 'lr': 0.07635446268481337, 'reg_mode': 'l2', 'reg_strength': 0.003081984594926307, 'reg_ratio': 0.6278771733951385, 'method': 'sgd', 'batch_size': 256, 'scaler': <mlkit.preprocessing.scalers.StandardScaler object at 0x000002647F700280>, 'verbose': 0}. Best is trial 1 with value: 0.968518518428841.\n",
      "[I 2024-12-02 15:05:19,240] Trial 5 finished with value: 0.949999999912037 and parameters: {'n_iters': 7000, 'lr': 0.02460137754419878, 'reg_mode': 'elasticnet', 'reg_strength': 0.005841865922702758, 'reg_ratio': 0.618549963305607, 'method': 'gd', 'batch_size': 256, 'scaler': <mlkit.preprocessing.scalers.MinMaxScaler object at 0x000002647F78D6A0>, 'verbose': 0}. Best is trial 1 with value: 0.968518518428841.\n",
      "[I 2024-12-02 15:05:48,804] Trial 6 finished with value: 0.9722222221322017 and parameters: {'n_iters': 13000, 'lr': 0.022143898253134873, 'reg_mode': 'l1', 'reg_strength': 0.004607499601241224, 'reg_ratio': 0.3469192541461965, 'method': 'gd', 'batch_size': 128, 'scaler': <mlkit.preprocessing.scalers.StandardScaler object at 0x000002647F78DDC0>, 'verbose': 0}. Best is trial 6 with value: 0.9722222221322017.\n",
      "[I 2024-12-02 15:06:09,235] Trial 7 finished with value: 0.968518518428841 and parameters: {'n_iters': 9000, 'lr': 0.045506210934686674, 'reg_mode': 'l1', 'reg_strength': 0.0040882582659344455, 'reg_ratio': 0.3002234841732371, 'method': 'gd', 'batch_size': 256, 'scaler': <mlkit.preprocessing.scalers.StandardScaler object at 0x000002647F77C4F0>, 'verbose': 0}. Best is trial 6 with value: 0.9722222221322017.\n",
      "[I 2024-12-02 15:06:26,226] Trial 8 finished with value: 0.9777777776872428 and parameters: {'n_iters': 7000, 'lr': 0.027221869955462934, 'reg_mode': 'elasticnet', 'reg_strength': 0.006809698213700237, 'reg_ratio': 0.44271836940523873, 'method': 'gd', 'batch_size': 256, 'scaler': <mlkit.preprocessing.scalers.StandardScaler object at 0x000002647F797F10>, 'verbose': 0}. Best is trial 8 with value: 0.9777777776872428.\n",
      "[I 2024-12-02 15:06:51,778] Trial 9 finished with value: 0.9777777776872428 and parameters: {'n_iters': 11000, 'lr': 0.013743645276139516, 'reg_mode': 'elasticnet', 'reg_strength': 0.004666962602580509, 'reg_ratio': 0.6591483671633489, 'method': 'gd', 'batch_size': 256, 'scaler': <mlkit.preprocessing.scalers.StandardScaler object at 0x000002647F797400>, 'verbose': 0}. Best is trial 8 with value: 0.9777777776872428.\n",
      "[I 2024-12-02 15:07:04,021] Trial 10 finished with value: 0.949999999912037 and parameters: {'n_iters': 5000, 'lr': 0.03397330547077906, 'reg_mode': 'l2', 'reg_strength': 0.008502465043977048, 'reg_ratio': 0.4062375683904672, 'method': 'gd', 'batch_size': 128, 'scaler': <mlkit.preprocessing.scalers.MinMaxScaler object at 0x000002647F7FB0D0>, 'verbose': 0}. Best is trial 8 with value: 0.9777777776872428.\n",
      "[I 2024-12-02 15:07:29,798] Trial 11 finished with value: 0.9777777776872428 and parameters: {'n_iters': 11000, 'lr': 0.012233617865224814, 'reg_mode': 'elasticnet', 'reg_strength': 0.006095741480221701, 'reg_ratio': 0.20467976813785366, 'method': 'gd', 'batch_size': 256, 'scaler': <mlkit.preprocessing.scalers.StandardScaler object at 0x000002647F7FB880>, 'verbose': 0}. Best is trial 8 with value: 0.9777777776872428.\n",
      "[I 2024-12-02 15:08:03,860] Trial 12 finished with value: 0.974074073983882 and parameters: {'n_iters': 15000, 'lr': 0.015883279914603407, 'reg_mode': 'elasticnet', 'reg_strength': 0.003106897046586971, 'reg_ratio': 0.4544345972071102, 'method': 'gd', 'batch_size': 256, 'scaler': <mlkit.preprocessing.scalers.StandardScaler object at 0x000002647F7FBC10>, 'verbose': 0}. Best is trial 8 with value: 0.9777777776872428.\n",
      "[I 2024-12-02 15:08:25,301] Trial 13 finished with value: 0.9777777776872428 and parameters: {'n_iters': 9000, 'lr': 0.015458537905798046, 'reg_mode': 'elasticnet', 'reg_strength': 0.006428437958817642, 'reg_ratio': 0.759969193797527, 'method': 'gd', 'batch_size': 256, 'scaler': <mlkit.preprocessing.scalers.StandardScaler object at 0x000002647F7FB8B0>, 'verbose': 0}. Best is trial 8 with value: 0.9777777776872428.\n",
      "[I 2024-12-02 15:08:50,943] Trial 14 finished with value: 0.968518518428841 and parameters: {'n_iters': 11000, 'lr': 0.0341052214295967, 'reg_mode': 'elasticnet', 'reg_strength': 0.009938211450827102, 'reg_ratio': 0.45317831456739954, 'method': 'gd', 'batch_size': 256, 'scaler': <mlkit.preprocessing.scalers.StandardScaler object at 0x000002647F7FFDC0>, 'verbose': 0}. Best is trial 8 with value: 0.9777777776872428.\n",
      "[I 2024-12-02 15:09:02,106] Trial 15 finished with value: 0.974074073983882 and parameters: {'n_iters': 5000, 'lr': 0.04735140549454782, 'reg_mode': 'elasticnet', 'reg_strength': 0.004292884474283949, 'reg_ratio': 0.6925076691173921, 'method': 'gd', 'batch_size': 256, 'scaler': <mlkit.preprocessing.scalers.StandardScaler object at 0x000002647F7FF9A0>, 'verbose': 0}. Best is trial 8 with value: 0.9777777776872428.\n",
      "[I 2024-12-02 15:09:25,793] Trial 16 finished with value: 0.9777777776872428 and parameters: {'n_iters': 11000, 'lr': 0.015808294623276327, 'reg_mode': 'l2', 'reg_strength': 0.0024452962215631095, 'reg_ratio': 0.5430425996854227, 'method': 'gd', 'batch_size': 256, 'scaler': <mlkit.preprocessing.scalers.StandardScaler object at 0x000002647F7FF250>, 'verbose': 0}. Best is trial 8 with value: 0.9777777776872428.\n",
      "[I 2024-12-02 15:09:32,347] Trial 17 finished with value: 0.9777777776872429 and parameters: {'n_iters': 3000, 'lr': 0.028355881001359367, 'reg_mode': 'elasticnet', 'reg_strength': 0.005109464139334463, 'reg_ratio': 0.3609017767250611, 'method': 'gd', 'batch_size': 256, 'scaler': <mlkit.preprocessing.scalers.StandardScaler object at 0x000002647F7FFAC0>, 'verbose': 0}. Best is trial 17 with value: 0.9777777776872429.\n",
      "[I 2024-12-02 15:10:04,766] Trial 18 finished with value: 0.9666666665771604 and parameters: {'n_iters': 3000, 'lr': 0.02722766151432554, 'reg_mode': 'elasticnet', 'reg_strength': 0.00715934206316501, 'reg_ratio': 0.2950295793247946, 'method': 'sgd', 'batch_size': 128, 'scaler': <mlkit.preprocessing.scalers.MinMaxScaler object at 0x000002647F7FEF10>, 'verbose': 0}. Best is trial 17 with value: 0.9777777776872429.\n",
      "[I 2024-12-02 15:10:11,203] Trial 19 finished with value: 0.9777777776872428 and parameters: {'n_iters': 3000, 'lr': 0.04698805018942768, 'reg_mode': 'l2', 'reg_strength': 0.005366586483134157, 'reg_ratio': 0.39528613865672624, 'method': 'gd', 'batch_size': 256, 'scaler': <mlkit.preprocessing.scalers.StandardScaler object at 0x000002647F7FE5B0>, 'verbose': 0}. Best is trial 17 with value: 0.9777777776872429.\n",
      "[I 2024-12-02 15:10:18,061] Trial 20 finished with value: 0.9777777776872428 and parameters: {'n_iters': 3000, 'lr': 0.03896618250820593, 'reg_mode': 'elasticnet', 'reg_strength': 0.003591971278910277, 'reg_ratio': 0.21286062205554368, 'method': 'gd', 'batch_size': 256, 'scaler': <mlkit.preprocessing.scalers.StandardScaler object at 0x000002647F7FE760>, 'verbose': 0}. Best is trial 17 with value: 0.9777777776872429.\n",
      "[I 2024-12-02 15:10:34,942] Trial 21 finished with value: 0.9777777776872428 and parameters: {'n_iters': 7000, 'lr': 0.0193553836862191, 'reg_mode': 'elasticnet', 'reg_strength': 0.0049923984588902985, 'reg_ratio': 0.48530146253820106, 'method': 'gd', 'batch_size': 256, 'scaler': <mlkit.preprocessing.scalers.StandardScaler object at 0x000002647F7FE640>, 'verbose': 0}. Best is trial 17 with value: 0.9777777776872429.\n",
      "[I 2024-12-02 15:10:56,138] Trial 22 finished with value: 0.974074073983882 and parameters: {'n_iters': 9000, 'lr': 0.026708520742525093, 'reg_mode': 'elasticnet', 'reg_strength': 0.007264214947120139, 'reg_ratio': 0.37756003183110165, 'method': 'gd', 'batch_size': 256, 'scaler': <mlkit.preprocessing.scalers.StandardScaler object at 0x000002647F8073D0>, 'verbose': 0}. Best is trial 17 with value: 0.9777777776872429.\n",
      "[I 2024-12-02 15:11:26,622] Trial 23 finished with value: 0.974074073983882 and parameters: {'n_iters': 13000, 'lr': 0.018171186669245186, 'reg_mode': 'elasticnet', 'reg_strength': 0.003617773185822054, 'reg_ratio': 0.2929018159922304, 'method': 'gd', 'batch_size': 256, 'scaler': <mlkit.preprocessing.scalers.StandardScaler object at 0x000002647F807310>, 'verbose': 0}. Best is trial 17 with value: 0.9777777776872429.\n",
      "[I 2024-12-02 15:11:38,413] Trial 24 finished with value: 0.968518518428841 and parameters: {'n_iters': 5000, 'lr': 0.09551065273824028, 'reg_mode': 'elasticnet', 'reg_strength': 0.005127234152936663, 'reg_ratio': 0.5736948891252253, 'method': 'gd', 'batch_size': 256, 'scaler': <mlkit.preprocessing.scalers.StandardScaler object at 0x000002647F807DF0>, 'verbose': 0}. Best is trial 17 with value: 0.9777777776872429.\n",
      "[I 2024-12-02 15:12:14,438] Trial 25 finished with value: 0.9777777776872428 and parameters: {'n_iters': 15000, 'lr': 0.011962561503747176, 'reg_mode': 'elasticnet', 'reg_strength': 0.002625387676308817, 'reg_ratio': 0.45412312614556016, 'method': 'gd', 'batch_size': 256, 'scaler': <mlkit.preprocessing.scalers.StandardScaler object at 0x000002647F809820>, 'verbose': 0}. Best is trial 17 with value: 0.9777777776872429.\n",
      "[I 2024-12-02 15:12:51,592] Trial 26 finished with value: 0.968518518428841 and parameters: {'n_iters': 11000, 'lr': 0.027359272119834795, 'reg_mode': 'elasticnet', 'reg_strength': 0.007232259391659888, 'reg_ratio': 0.7043860616694029, 'method': 'sgd', 'batch_size': 128, 'scaler': <mlkit.preprocessing.scalers.MinMaxScaler object at 0x000002647F809F70>, 'verbose': 0}. Best is trial 17 with value: 0.9777777776872429.\n",
      "[I 2024-12-02 15:13:08,391] Trial 27 finished with value: 0.9722222221322017 and parameters: {'n_iters': 7000, 'lr': 0.031149804271638607, 'reg_mode': 'elasticnet', 'reg_strength': 0.0012565596032261155, 'reg_ratio': 0.33574149630059363, 'method': 'gd', 'batch_size': 256, 'scaler': <mlkit.preprocessing.scalers.StandardScaler object at 0x000002647F8094F0>, 'verbose': 0}. Best is trial 17 with value: 0.9777777776872429.\n",
      "[I 2024-12-02 15:13:10,859] Trial 28 finished with value: 0.9814814813906036 and parameters: {'n_iters': 1000, 'lr': 0.03906139027175897, 'reg_mode': 'l1', 'reg_strength': 0.003975706292415437, 'reg_ratio': 0.4852431409523279, 'method': 'gd', 'batch_size': 256, 'scaler': <mlkit.preprocessing.scalers.StandardScaler object at 0x000002647F809BB0>, 'verbose': 0}. Best is trial 28 with value: 0.9814814813906036.\n",
      "[I 2024-12-02 15:13:49,124] Trial 29 finished with value: 0.9666666665771604 and parameters: {'n_iters': 1000, 'lr': 0.05672026861783576, 'reg_mode': 'l1', 'reg_strength': 0.001641488636466985, 'reg_ratio': 0.49206099733868486, 'method': 'sgd', 'batch_size': 128, 'scaler': <mlkit.preprocessing.scalers.MinMaxScaler object at 0x000002647F80B8B0>, 'verbose': 0}. Best is trial 28 with value: 0.9814814813906036.\n",
      "[I 2024-12-02 15:13:51,672] Trial 30 finished with value: 0.9814814813906036 and parameters: {'n_iters': 1000, 'lr': 0.03889802878157038, 'reg_mode': 'l1', 'reg_strength': 0.00375737774260576, 'reg_ratio': 0.24452029314935203, 'method': 'gd', 'batch_size': 256, 'scaler': <mlkit.preprocessing.scalers.StandardScaler object at 0x000002647F80BB80>, 'verbose': 0}. Best is trial 28 with value: 0.9814814813906036.\n",
      "[I 2024-12-02 15:13:54,301] Trial 31 finished with value: 0.9796296295389233 and parameters: {'n_iters': 1000, 'lr': 0.0419102938395586, 'reg_mode': 'l1', 'reg_strength': 0.0035496761179337867, 'reg_ratio': 0.2561390990251508, 'method': 'gd', 'batch_size': 256, 'scaler': <mlkit.preprocessing.scalers.StandardScaler object at 0x000002647F80B3D0>, 'verbose': 0}. Best is trial 28 with value: 0.9814814813906036.\n",
      "[I 2024-12-02 15:13:56,790] Trial 32 finished with value: 0.9814814813906036 and parameters: {'n_iters': 1000, 'lr': 0.039667782862583365, 'reg_mode': 'l1', 'reg_strength': 0.003514965702149064, 'reg_ratio': 0.25394706957273283, 'method': 'gd', 'batch_size': 256, 'scaler': <mlkit.preprocessing.scalers.StandardScaler object at 0x000002647F80B790>, 'verbose': 0}. Best is trial 28 with value: 0.9814814813906036.\n",
      "[I 2024-12-02 15:13:59,333] Trial 33 finished with value: 0.9814814813906036 and parameters: {'n_iters': 1000, 'lr': 0.03957639645433251, 'reg_mode': 'l1', 'reg_strength': 0.0024954753750751403, 'reg_ratio': 0.24729202370364983, 'method': 'gd', 'batch_size': 256, 'scaler': <mlkit.preprocessing.scalers.StandardScaler object at 0x000002647F80A790>, 'verbose': 0}. Best is trial 28 with value: 0.9814814813906036.\n",
      "[I 2024-12-02 15:14:39,650] Trial 34 finished with value: 0.968518518428841 and parameters: {'n_iters': 1000, 'lr': 0.056987216647440816, 'reg_mode': 'l1', 'reg_strength': 0.002156633575536928, 'reg_ratio': 0.24345962520387, 'method': 'sgd', 'batch_size': 256, 'scaler': <mlkit.preprocessing.scalers.StandardScaler object at 0x000002647F80A250>, 'verbose': 0}. Best is trial 28 with value: 0.9814814813906036.\n",
      "[I 2024-12-02 15:14:41,941] Trial 35 finished with value: 0.9814814813906036 and parameters: {'n_iters': 1000, 'lr': 0.03885225551970473, 'reg_mode': 'l1', 'reg_strength': 0.0017681980364440757, 'reg_ratio': 0.24941308805301213, 'method': 'gd', 'batch_size': 256, 'scaler': <mlkit.preprocessing.scalers.StandardScaler object at 0x000002647F80A640>, 'verbose': 0}. Best is trial 28 with value: 0.9814814813906036.\n",
      "[I 2024-12-02 15:14:44,178] Trial 36 finished with value: 0.9333333332469136 and parameters: {'n_iters': 1000, 'lr': 0.05395856592520155, 'reg_mode': 'l1', 'reg_strength': 0.002735739887318395, 'reg_ratio': 0.27573925216256967, 'method': 'gd', 'batch_size': 256, 'scaler': <mlkit.preprocessing.scalers.MinMaxScaler object at 0x000002647F80AF10>, 'verbose': 0}. Best is trial 28 with value: 0.9814814813906036.\n",
      "[I 2024-12-02 15:15:18,126] Trial 37 finished with value: 0.974074073983882 and parameters: {'n_iters': 3000, 'lr': 0.06951454960134365, 'reg_mode': 'l1', 'reg_strength': 0.0039555502297054035, 'reg_ratio': 0.7937119361552247, 'method': 'sgd', 'batch_size': 128, 'scaler': <mlkit.preprocessing.scalers.StandardScaler object at 0x000002647F814070>, 'verbose': 0}. Best is trial 28 with value: 0.9814814813906036.\n",
      "[I 2024-12-02 15:15:20,492] Trial 38 finished with value: 0.9814814813906036 and parameters: {'n_iters': 1000, 'lr': 0.037521282160544234, 'reg_mode': 'l1', 'reg_strength': 0.0029028406652939244, 'reg_ratio': 0.22740562109750026, 'method': 'gd', 'batch_size': 256, 'scaler': <mlkit.preprocessing.scalers.StandardScaler object at 0x000002647F814850>, 'verbose': 0}. Best is trial 28 with value: 0.9814814813906036.\n",
      "[I 2024-12-02 15:15:27,025] Trial 39 finished with value: 0.9777777776872428 and parameters: {'n_iters': 3000, 'lr': 0.03222297442729113, 'reg_mode': 'l1', 'reg_strength': 0.0022587507156746896, 'reg_ratio': 0.3352636841301854, 'method': 'gd', 'batch_size': 256, 'scaler': <mlkit.preprocessing.scalers.StandardScaler object at 0x000002647F8145B0>, 'verbose': 0}. Best is trial 28 with value: 0.9814814813906036.\n",
      "[I 2024-12-02 15:15:29,259] Trial 40 finished with value: 0.9314814813952333 and parameters: {'n_iters': 1000, 'lr': 0.0428624158516198, 'reg_mode': 'l1', 'reg_strength': 0.0033009908205105126, 'reg_ratio': 0.3173661766063475, 'method': 'gd', 'batch_size': 256, 'scaler': <mlkit.preprocessing.scalers.MinMaxScaler object at 0x000002647F818EB0>, 'verbose': 0}. Best is trial 28 with value: 0.9814814813906036.\n",
      "[I 2024-12-02 15:15:31,514] Trial 41 finished with value: 0.9796296295389233 and parameters: {'n_iters': 1000, 'lr': 0.05150623814335577, 'reg_mode': 'l1', 'reg_strength': 0.0018162838227385545, 'reg_ratio': 0.2665917963745079, 'method': 'gd', 'batch_size': 256, 'scaler': <mlkit.preprocessing.scalers.StandardScaler object at 0x000002647F818760>, 'verbose': 0}. Best is trial 28 with value: 0.9814814813906036.\n",
      "[I 2024-12-02 15:15:33,934] Trial 42 finished with value: 0.9814814813906036 and parameters: {'n_iters': 1000, 'lr': 0.036549828831554144, 'reg_mode': 'l1', 'reg_strength': 0.001696669193224904, 'reg_ratio': 0.22964314603912003, 'method': 'gd', 'batch_size': 256, 'scaler': <mlkit.preprocessing.scalers.StandardScaler object at 0x000002647F818610>, 'verbose': 0}. Best is trial 28 with value: 0.9814814813906036.\n",
      "[I 2024-12-02 15:15:40,608] Trial 43 finished with value: 0.9777777776872428 and parameters: {'n_iters': 3000, 'lr': 0.0410002688384019, 'reg_mode': 'l1', 'reg_strength': 0.0019913498562458038, 'reg_ratio': 0.2590847132121672, 'method': 'gd', 'batch_size': 256, 'scaler': <mlkit.preprocessing.scalers.StandardScaler object at 0x000002647F818280>, 'verbose': 0}. Best is trial 28 with value: 0.9814814813906036.\n",
      "[I 2024-12-02 15:15:51,752] Trial 44 finished with value: 0.9722222221322017 and parameters: {'n_iters': 5000, 'lr': 0.06431943918461877, 'reg_mode': 'l1', 'reg_strength': 0.0014570505179516693, 'reg_ratio': 0.20150079754754271, 'method': 'gd', 'batch_size': 256, 'scaler': <mlkit.preprocessing.scalers.StandardScaler object at 0x000002647F8178E0>, 'verbose': 0}. Best is trial 28 with value: 0.9814814813906036.\n",
      "[I 2024-12-02 15:15:54,074] Trial 45 finished with value: 0.9814814813906036 and parameters: {'n_iters': 1000, 'lr': 0.03086117242694265, 'reg_mode': 'l1', 'reg_strength': 0.0023958122999088657, 'reg_ratio': 0.30531417256303717, 'method': 'gd', 'batch_size': 256, 'scaler': <mlkit.preprocessing.scalers.StandardScaler object at 0x000002647F8172E0>, 'verbose': 0}. Best is trial 28 with value: 0.9814814813906036.\n",
      "[I 2024-12-02 15:16:01,065] Trial 46 finished with value: 0.9777777776872428 and parameters: {'n_iters': 3000, 'lr': 0.035930136138494884, 'reg_mode': 'l1', 'reg_strength': 0.0010608543883750166, 'reg_ratio': 0.4082504967064937, 'method': 'gd', 'batch_size': 128, 'scaler': <mlkit.preprocessing.scalers.StandardScaler object at 0x000002647F817550>, 'verbose': 0}. Best is trial 28 with value: 0.9814814813906036.\n",
      "[I 2024-12-02 15:16:03,446] Trial 47 finished with value: 0.9777777776872428 and parameters: {'n_iters': 1000, 'lr': 0.024432466837524643, 'reg_mode': 'l1', 'reg_strength': 0.004218900481230222, 'reg_ratio': 0.2824817978907751, 'method': 'gd', 'batch_size': 256, 'scaler': <mlkit.preprocessing.scalers.StandardScaler object at 0x000002647F8171F0>, 'verbose': 0}. Best is trial 28 with value: 0.9814814813906036.\n",
      "[W 2024-12-02 15:16:11,821] Trial 48 failed with parameters: {'n_iters': 1000, 'lr': 0.04906374660801044, 'reg_mode': 'l1', 'reg_strength': 0.0031109932432313993, 'reg_ratio': 0.5888485622508386, 'method': 'sgd', 'batch_size': 256, 'scaler': <mlkit.preprocessing.scalers.StandardScaler object at 0x000002647F81DA00>, 'verbose': 0} because of the following error: KeyboardInterrupt().\n",
      "Traceback (most recent call last):\n",
      "  File \"c:\\ml_env\\lib\\site-packages\\optuna\\study\\_optimize.py\", line 196, in _run_trial\n",
      "    value_or_values = func(trial)\n",
      "  File \"d:\\ML Algs from scratch\\mlkit\\tune\\ModelTuner.py\", line 94, in objective\n",
      "    model.fit(X_train, y_train)\n",
      "  File \"d:\\ML Algs from scratch\\mlkit\\linear_model\\LogisticRegression.py\", line 178, in fit\n",
      "    self._gradient_descent(X, y)\n",
      "  File \"d:\\ML Algs from scratch\\mlkit\\linear_model\\LogisticRegression.py\", line 152, in _gradient_descent\n",
      "    self._gradient_step(X, y)\n",
      "  File \"d:\\ML Algs from scratch\\mlkit\\linear_model\\LogisticRegression.py\", line 131, in _gradient_step\n",
      "    self._compute_gradient(X_batch, y_batch)\n",
      "  File \"d:\\ML Algs from scratch\\mlkit\\linear_model\\LogisticRegression.py\", line 101, in _compute_gradient\n",
      "    y_pred = sigmoid(np.dot(X, self.w) + self.b)\n",
      "KeyboardInterrupt\n",
      "[W 2024-12-02 15:16:11,829] Trial 48 failed with value None.\n"
     ]
    },
    {
     "ename": "KeyboardInterrupt",
     "evalue": "",
     "output_type": "error",
     "traceback": [
      "\u001b[1;31m---------------------------------------------------------------------------\u001b[0m",
      "\u001b[1;31mKeyboardInterrupt\u001b[0m                         Traceback (most recent call last)",
      "Cell \u001b[1;32mIn[7], line 7\u001b[0m\n\u001b[0;32m      3\u001b[0m \u001b[38;5;28;01mfrom\u001b[39;00m \u001b[38;5;21;01mmlkit\u001b[39;00m\u001b[38;5;21;01m.\u001b[39;00m\u001b[38;5;21;01mmodel_selection\u001b[39;00m \u001b[38;5;28;01mimport\u001b[39;00m KFold\n\u001b[0;32m      5\u001b[0m tuner \u001b[38;5;241m=\u001b[39m ModelTuner(model \u001b[38;5;241m=\u001b[39m LogisticRegression())\n\u001b[1;32m----> 7\u001b[0m best_model \u001b[38;5;241m=\u001b[39m \u001b[43mtuner\u001b[49m\u001b[38;5;241;43m.\u001b[39;49m\u001b[43mfit\u001b[49m\u001b[43m(\u001b[49m\u001b[43mX_train\u001b[49m\u001b[43m,\u001b[49m\u001b[43m \u001b[49m\u001b[43my_train\u001b[49m\u001b[43m)\u001b[49m\n",
      "File \u001b[1;32md:\\ML Algs from scratch\\mlkit\\tune\\ModelTuner.py:110\u001b[0m, in \u001b[0;36mModelTuner.fit\u001b[1;34m(self, X, y)\u001b[0m\n\u001b[0;32m    103\u001b[0m \u001b[38;5;28mself\u001b[39m\u001b[38;5;241m.\u001b[39mstudy \u001b[38;5;241m=\u001b[39m optuna\u001b[38;5;241m.\u001b[39mcreate_study(study_name \u001b[38;5;241m=\u001b[39m \u001b[38;5;124m\"\u001b[39m\u001b[38;5;124mtuner_study\u001b[39m\u001b[38;5;124m\"\u001b[39m,\n\u001b[0;32m    104\u001b[0m                                  direction \u001b[38;5;241m=\u001b[39m \u001b[38;5;124m\"\u001b[39m\u001b[38;5;124mmaximize\u001b[39m\u001b[38;5;124m\"\u001b[39m,\n\u001b[0;32m    105\u001b[0m                                  sampler \u001b[38;5;241m=\u001b[39m optuna\u001b[38;5;241m.\u001b[39msamplers\u001b[38;5;241m.\u001b[39mTPESampler(),\n\u001b[0;32m    106\u001b[0m                                  pruner \u001b[38;5;241m=\u001b[39m optuna\u001b[38;5;241m.\u001b[39mpruners\u001b[38;5;241m.\u001b[39mMedianPruner())\n\u001b[0;32m    109\u001b[0m \u001b[38;5;28mprint\u001b[39m(\u001b[38;5;124m\"\u001b[39m\u001b[38;5;130;01m\\n\u001b[39;00m\u001b[38;5;124mStarting optimization process...\u001b[39m\u001b[38;5;130;01m\\n\u001b[39;00m\u001b[38;5;124m\"\u001b[39m)\n\u001b[1;32m--> 110\u001b[0m \u001b[38;5;28;43mself\u001b[39;49m\u001b[38;5;241;43m.\u001b[39;49m\u001b[43mstudy\u001b[49m\u001b[38;5;241;43m.\u001b[39;49m\u001b[43moptimize\u001b[49m\u001b[43m(\u001b[49m\u001b[43mobjective\u001b[49m\u001b[43m,\u001b[49m\u001b[43m \u001b[49m\u001b[43mn_trials\u001b[49m\u001b[43m \u001b[49m\u001b[38;5;241;43m=\u001b[39;49m\u001b[43m \u001b[49m\u001b[38;5;28;43mself\u001b[39;49m\u001b[38;5;241;43m.\u001b[39;49m\u001b[43mn_trials\u001b[49m\u001b[43m,\u001b[49m\u001b[43m \u001b[49m\u001b[43mtimeout\u001b[49m\u001b[43m \u001b[49m\u001b[38;5;241;43m=\u001b[39;49m\u001b[43m \u001b[49m\u001b[38;5;28;43mself\u001b[39;49m\u001b[38;5;241;43m.\u001b[39;49m\u001b[43mtimeout\u001b[49m\u001b[43m,\u001b[49m\n\u001b[0;32m    111\u001b[0m \u001b[43m                    \u001b[49m\u001b[43mn_jobs\u001b[49m\u001b[43m \u001b[49m\u001b[38;5;241;43m=\u001b[39;49m\u001b[43m \u001b[49m\u001b[38;5;28;43mself\u001b[39;49m\u001b[38;5;241;43m.\u001b[39;49m\u001b[43mn_jobs\u001b[49m\u001b[43m,\u001b[49m\u001b[43m \u001b[49m\u001b[43mgc_after_trial\u001b[49m\u001b[43m \u001b[49m\u001b[38;5;241;43m=\u001b[39;49m\u001b[43m \u001b[49m\u001b[38;5;28;43;01mTrue\u001b[39;49;00m\u001b[43m,\u001b[49m\u001b[43m \u001b[49m\n\u001b[0;32m    112\u001b[0m \u001b[43m                    \u001b[49m\u001b[43mshow_progress_bar\u001b[49m\u001b[43m \u001b[49m\u001b[38;5;241;43m=\u001b[39;49m\u001b[43m \u001b[49m\u001b[38;5;28;43mself\u001b[39;49m\u001b[38;5;241;43m.\u001b[39;49m\u001b[43mshow_progress_bar\u001b[49m\u001b[43m)\u001b[49m\n\u001b[0;32m    114\u001b[0m best_params \u001b[38;5;241m=\u001b[39m \u001b[38;5;28mself\u001b[39m\u001b[38;5;241m.\u001b[39mstudy\u001b[38;5;241m.\u001b[39mbest_params\n\u001b[0;32m    115\u001b[0m reg_mode, reg_strength, reg_ratio \u001b[38;5;241m=\u001b[39m (best_params\u001b[38;5;241m.\u001b[39mpop(\u001b[38;5;124m\"\u001b[39m\u001b[38;5;124mreg_mode\u001b[39m\u001b[38;5;124m\"\u001b[39m), best_params\u001b[38;5;241m.\u001b[39mpop(\u001b[38;5;124m\"\u001b[39m\u001b[38;5;124mreg_strength\u001b[39m\u001b[38;5;124m\"\u001b[39m), \n\u001b[0;32m    116\u001b[0m                                      best_params\u001b[38;5;241m.\u001b[39mpop(\u001b[38;5;124m\"\u001b[39m\u001b[38;5;124mreg_ratio\u001b[39m\u001b[38;5;124m\"\u001b[39m))\n",
      "File \u001b[1;32mc:\\ml_env\\lib\\site-packages\\optuna\\study\\study.py:451\u001b[0m, in \u001b[0;36mStudy.optimize\u001b[1;34m(self, func, n_trials, timeout, n_jobs, catch, callbacks, gc_after_trial, show_progress_bar)\u001b[0m\n\u001b[0;32m    348\u001b[0m \u001b[38;5;28;01mdef\u001b[39;00m \u001b[38;5;21moptimize\u001b[39m(\n\u001b[0;32m    349\u001b[0m     \u001b[38;5;28mself\u001b[39m,\n\u001b[0;32m    350\u001b[0m     func: ObjectiveFuncType,\n\u001b[1;32m   (...)\u001b[0m\n\u001b[0;32m    357\u001b[0m     show_progress_bar: \u001b[38;5;28mbool\u001b[39m \u001b[38;5;241m=\u001b[39m \u001b[38;5;28;01mFalse\u001b[39;00m,\n\u001b[0;32m    358\u001b[0m ) \u001b[38;5;241m-\u001b[39m\u001b[38;5;241m>\u001b[39m \u001b[38;5;28;01mNone\u001b[39;00m:\n\u001b[0;32m    359\u001b[0m \u001b[38;5;250m    \u001b[39m\u001b[38;5;124;03m\"\"\"Optimize an objective function.\u001b[39;00m\n\u001b[0;32m    360\u001b[0m \n\u001b[0;32m    361\u001b[0m \u001b[38;5;124;03m    Optimization is done by choosing a suitable set of hyperparameter values from a given\u001b[39;00m\n\u001b[1;32m   (...)\u001b[0m\n\u001b[0;32m    449\u001b[0m \u001b[38;5;124;03m            If nested invocation of this method occurs.\u001b[39;00m\n\u001b[0;32m    450\u001b[0m \u001b[38;5;124;03m    \"\"\"\u001b[39;00m\n\u001b[1;32m--> 451\u001b[0m     \u001b[43m_optimize\u001b[49m\u001b[43m(\u001b[49m\n\u001b[0;32m    452\u001b[0m \u001b[43m        \u001b[49m\u001b[43mstudy\u001b[49m\u001b[38;5;241;43m=\u001b[39;49m\u001b[38;5;28;43mself\u001b[39;49m\u001b[43m,\u001b[49m\n\u001b[0;32m    453\u001b[0m \u001b[43m        \u001b[49m\u001b[43mfunc\u001b[49m\u001b[38;5;241;43m=\u001b[39;49m\u001b[43mfunc\u001b[49m\u001b[43m,\u001b[49m\n\u001b[0;32m    454\u001b[0m \u001b[43m        \u001b[49m\u001b[43mn_trials\u001b[49m\u001b[38;5;241;43m=\u001b[39;49m\u001b[43mn_trials\u001b[49m\u001b[43m,\u001b[49m\n\u001b[0;32m    455\u001b[0m \u001b[43m        \u001b[49m\u001b[43mtimeout\u001b[49m\u001b[38;5;241;43m=\u001b[39;49m\u001b[43mtimeout\u001b[49m\u001b[43m,\u001b[49m\n\u001b[0;32m    456\u001b[0m \u001b[43m        \u001b[49m\u001b[43mn_jobs\u001b[49m\u001b[38;5;241;43m=\u001b[39;49m\u001b[43mn_jobs\u001b[49m\u001b[43m,\u001b[49m\n\u001b[0;32m    457\u001b[0m \u001b[43m        \u001b[49m\u001b[43mcatch\u001b[49m\u001b[38;5;241;43m=\u001b[39;49m\u001b[38;5;28;43mtuple\u001b[39;49m\u001b[43m(\u001b[49m\u001b[43mcatch\u001b[49m\u001b[43m)\u001b[49m\u001b[43m \u001b[49m\u001b[38;5;28;43;01mif\u001b[39;49;00m\u001b[43m \u001b[49m\u001b[38;5;28;43misinstance\u001b[39;49m\u001b[43m(\u001b[49m\u001b[43mcatch\u001b[49m\u001b[43m,\u001b[49m\u001b[43m \u001b[49m\u001b[43mIterable\u001b[49m\u001b[43m)\u001b[49m\u001b[43m \u001b[49m\u001b[38;5;28;43;01melse\u001b[39;49;00m\u001b[43m \u001b[49m\u001b[43m(\u001b[49m\u001b[43mcatch\u001b[49m\u001b[43m,\u001b[49m\u001b[43m)\u001b[49m\u001b[43m,\u001b[49m\n\u001b[0;32m    458\u001b[0m \u001b[43m        \u001b[49m\u001b[43mcallbacks\u001b[49m\u001b[38;5;241;43m=\u001b[39;49m\u001b[43mcallbacks\u001b[49m\u001b[43m,\u001b[49m\n\u001b[0;32m    459\u001b[0m \u001b[43m        \u001b[49m\u001b[43mgc_after_trial\u001b[49m\u001b[38;5;241;43m=\u001b[39;49m\u001b[43mgc_after_trial\u001b[49m\u001b[43m,\u001b[49m\n\u001b[0;32m    460\u001b[0m \u001b[43m        \u001b[49m\u001b[43mshow_progress_bar\u001b[49m\u001b[38;5;241;43m=\u001b[39;49m\u001b[43mshow_progress_bar\u001b[49m\u001b[43m,\u001b[49m\n\u001b[0;32m    461\u001b[0m \u001b[43m    \u001b[49m\u001b[43m)\u001b[49m\n",
      "File \u001b[1;32mc:\\ml_env\\lib\\site-packages\\optuna\\study\\_optimize.py:62\u001b[0m, in \u001b[0;36m_optimize\u001b[1;34m(study, func, n_trials, timeout, n_jobs, catch, callbacks, gc_after_trial, show_progress_bar)\u001b[0m\n\u001b[0;32m     60\u001b[0m \u001b[38;5;28;01mtry\u001b[39;00m:\n\u001b[0;32m     61\u001b[0m     \u001b[38;5;28;01mif\u001b[39;00m n_jobs \u001b[38;5;241m==\u001b[39m \u001b[38;5;241m1\u001b[39m:\n\u001b[1;32m---> 62\u001b[0m         \u001b[43m_optimize_sequential\u001b[49m\u001b[43m(\u001b[49m\n\u001b[0;32m     63\u001b[0m \u001b[43m            \u001b[49m\u001b[43mstudy\u001b[49m\u001b[43m,\u001b[49m\n\u001b[0;32m     64\u001b[0m \u001b[43m            \u001b[49m\u001b[43mfunc\u001b[49m\u001b[43m,\u001b[49m\n\u001b[0;32m     65\u001b[0m \u001b[43m            \u001b[49m\u001b[43mn_trials\u001b[49m\u001b[43m,\u001b[49m\n\u001b[0;32m     66\u001b[0m \u001b[43m            \u001b[49m\u001b[43mtimeout\u001b[49m\u001b[43m,\u001b[49m\n\u001b[0;32m     67\u001b[0m \u001b[43m            \u001b[49m\u001b[43mcatch\u001b[49m\u001b[43m,\u001b[49m\n\u001b[0;32m     68\u001b[0m \u001b[43m            \u001b[49m\u001b[43mcallbacks\u001b[49m\u001b[43m,\u001b[49m\n\u001b[0;32m     69\u001b[0m \u001b[43m            \u001b[49m\u001b[43mgc_after_trial\u001b[49m\u001b[43m,\u001b[49m\n\u001b[0;32m     70\u001b[0m \u001b[43m            \u001b[49m\u001b[43mreseed_sampler_rng\u001b[49m\u001b[38;5;241;43m=\u001b[39;49m\u001b[38;5;28;43;01mFalse\u001b[39;49;00m\u001b[43m,\u001b[49m\n\u001b[0;32m     71\u001b[0m \u001b[43m            \u001b[49m\u001b[43mtime_start\u001b[49m\u001b[38;5;241;43m=\u001b[39;49m\u001b[38;5;28;43;01mNone\u001b[39;49;00m\u001b[43m,\u001b[49m\n\u001b[0;32m     72\u001b[0m \u001b[43m            \u001b[49m\u001b[43mprogress_bar\u001b[49m\u001b[38;5;241;43m=\u001b[39;49m\u001b[43mprogress_bar\u001b[49m\u001b[43m,\u001b[49m\n\u001b[0;32m     73\u001b[0m \u001b[43m        \u001b[49m\u001b[43m)\u001b[49m\n\u001b[0;32m     74\u001b[0m     \u001b[38;5;28;01melse\u001b[39;00m:\n\u001b[0;32m     75\u001b[0m         \u001b[38;5;28;01mif\u001b[39;00m n_jobs \u001b[38;5;241m==\u001b[39m \u001b[38;5;241m-\u001b[39m\u001b[38;5;241m1\u001b[39m:\n",
      "File \u001b[1;32mc:\\ml_env\\lib\\site-packages\\optuna\\study\\_optimize.py:159\u001b[0m, in \u001b[0;36m_optimize_sequential\u001b[1;34m(study, func, n_trials, timeout, catch, callbacks, gc_after_trial, reseed_sampler_rng, time_start, progress_bar)\u001b[0m\n\u001b[0;32m    156\u001b[0m         \u001b[38;5;28;01mbreak\u001b[39;00m\n\u001b[0;32m    158\u001b[0m \u001b[38;5;28;01mtry\u001b[39;00m:\n\u001b[1;32m--> 159\u001b[0m     frozen_trial \u001b[38;5;241m=\u001b[39m \u001b[43m_run_trial\u001b[49m\u001b[43m(\u001b[49m\u001b[43mstudy\u001b[49m\u001b[43m,\u001b[49m\u001b[43m \u001b[49m\u001b[43mfunc\u001b[49m\u001b[43m,\u001b[49m\u001b[43m \u001b[49m\u001b[43mcatch\u001b[49m\u001b[43m)\u001b[49m\n\u001b[0;32m    160\u001b[0m \u001b[38;5;28;01mfinally\u001b[39;00m:\n\u001b[0;32m    161\u001b[0m     \u001b[38;5;66;03m# The following line mitigates memory problems that can be occurred in some\u001b[39;00m\n\u001b[0;32m    162\u001b[0m     \u001b[38;5;66;03m# environments (e.g., services that use computing containers such as GitHub Actions).\u001b[39;00m\n\u001b[0;32m    163\u001b[0m     \u001b[38;5;66;03m# Please refer to the following PR for further details:\u001b[39;00m\n\u001b[0;32m    164\u001b[0m     \u001b[38;5;66;03m# https://github.com/optuna/optuna/pull/325.\u001b[39;00m\n\u001b[0;32m    165\u001b[0m     \u001b[38;5;28;01mif\u001b[39;00m gc_after_trial:\n",
      "File \u001b[1;32mc:\\ml_env\\lib\\site-packages\\optuna\\study\\_optimize.py:247\u001b[0m, in \u001b[0;36m_run_trial\u001b[1;34m(study, func, catch)\u001b[0m\n\u001b[0;32m    240\u001b[0m         \u001b[38;5;28;01massert\u001b[39;00m \u001b[38;5;28;01mFalse\u001b[39;00m, \u001b[38;5;124m\"\u001b[39m\u001b[38;5;124mShould not reach.\u001b[39m\u001b[38;5;124m\"\u001b[39m\n\u001b[0;32m    242\u001b[0m \u001b[38;5;28;01mif\u001b[39;00m (\n\u001b[0;32m    243\u001b[0m     frozen_trial\u001b[38;5;241m.\u001b[39mstate \u001b[38;5;241m==\u001b[39m TrialState\u001b[38;5;241m.\u001b[39mFAIL\n\u001b[0;32m    244\u001b[0m     \u001b[38;5;129;01mand\u001b[39;00m func_err \u001b[38;5;129;01mis\u001b[39;00m \u001b[38;5;129;01mnot\u001b[39;00m \u001b[38;5;28;01mNone\u001b[39;00m\n\u001b[0;32m    245\u001b[0m     \u001b[38;5;129;01mand\u001b[39;00m \u001b[38;5;129;01mnot\u001b[39;00m \u001b[38;5;28misinstance\u001b[39m(func_err, catch)\n\u001b[0;32m    246\u001b[0m ):\n\u001b[1;32m--> 247\u001b[0m     \u001b[38;5;28;01mraise\u001b[39;00m func_err\n\u001b[0;32m    248\u001b[0m \u001b[38;5;28;01mreturn\u001b[39;00m frozen_trial\n",
      "File \u001b[1;32mc:\\ml_env\\lib\\site-packages\\optuna\\study\\_optimize.py:196\u001b[0m, in \u001b[0;36m_run_trial\u001b[1;34m(study, func, catch)\u001b[0m\n\u001b[0;32m    194\u001b[0m \u001b[38;5;28;01mwith\u001b[39;00m get_heartbeat_thread(trial\u001b[38;5;241m.\u001b[39m_trial_id, study\u001b[38;5;241m.\u001b[39m_storage):\n\u001b[0;32m    195\u001b[0m     \u001b[38;5;28;01mtry\u001b[39;00m:\n\u001b[1;32m--> 196\u001b[0m         value_or_values \u001b[38;5;241m=\u001b[39m \u001b[43mfunc\u001b[49m\u001b[43m(\u001b[49m\u001b[43mtrial\u001b[49m\u001b[43m)\u001b[49m\n\u001b[0;32m    197\u001b[0m     \u001b[38;5;28;01mexcept\u001b[39;00m exceptions\u001b[38;5;241m.\u001b[39mTrialPruned \u001b[38;5;28;01mas\u001b[39;00m e:\n\u001b[0;32m    198\u001b[0m         \u001b[38;5;66;03m# TODO(mamu): Handle multi-objective cases.\u001b[39;00m\n\u001b[0;32m    199\u001b[0m         state \u001b[38;5;241m=\u001b[39m TrialState\u001b[38;5;241m.\u001b[39mPRUNED\n",
      "File \u001b[1;32md:\\ML Algs from scratch\\mlkit\\tune\\ModelTuner.py:94\u001b[0m, in \u001b[0;36mModelTuner.fit.<locals>.objective\u001b[1;34m(trial)\u001b[0m\n\u001b[0;32m     92\u001b[0m X_train, X_val \u001b[38;5;241m=\u001b[39m X[train_idx], X[val_idx]\n\u001b[0;32m     93\u001b[0m y_train, y_val \u001b[38;5;241m=\u001b[39m y[train_idx], y[val_idx]\n\u001b[1;32m---> 94\u001b[0m \u001b[43mmodel\u001b[49m\u001b[38;5;241;43m.\u001b[39;49m\u001b[43mfit\u001b[49m\u001b[43m(\u001b[49m\u001b[43mX_train\u001b[49m\u001b[43m,\u001b[49m\u001b[43m \u001b[49m\u001b[43my_train\u001b[49m\u001b[43m)\u001b[49m\n\u001b[0;32m     95\u001b[0m fold_metric \u001b[38;5;241m=\u001b[39m model\u001b[38;5;241m.\u001b[39mscore(X_val, y_val)[metric]\n\u001b[0;32m     96\u001b[0m fold_metrics\u001b[38;5;241m.\u001b[39mappend(fold_metric)\n",
      "File \u001b[1;32md:\\ML Algs from scratch\\mlkit\\linear_model\\LogisticRegression.py:178\u001b[0m, in \u001b[0;36mLogisticRegression.fit\u001b[1;34m(self, X, y)\u001b[0m\n\u001b[0;32m    176\u001b[0m \u001b[38;5;28mself\u001b[39m\u001b[38;5;241m.\u001b[39m_init_params()\n\u001b[0;32m    177\u001b[0m \u001b[38;5;28mself\u001b[39m\u001b[38;5;241m.\u001b[39mprint(\u001b[38;5;124m\"\u001b[39m\u001b[38;5;124mStarting training the model:\u001b[39m\u001b[38;5;130;01m\\n\u001b[39;00m\u001b[38;5;124m\"\u001b[39m)\n\u001b[1;32m--> 178\u001b[0m \u001b[38;5;28;43mself\u001b[39;49m\u001b[38;5;241;43m.\u001b[39;49m\u001b[43m_gradient_descent\u001b[49m\u001b[43m(\u001b[49m\u001b[43mX\u001b[49m\u001b[43m,\u001b[49m\u001b[43m \u001b[49m\u001b[43my\u001b[49m\u001b[43m)\u001b[49m\n\u001b[0;32m    179\u001b[0m \u001b[38;5;28mself\u001b[39m\u001b[38;5;241m.\u001b[39mprint(\u001b[38;5;124m\"\u001b[39m\u001b[38;5;130;01m\\n\u001b[39;00m\u001b[38;5;124mDone.\u001b[39m\u001b[38;5;124m\"\u001b[39m)\n\u001b[0;32m    180\u001b[0m \u001b[38;5;28mself\u001b[39m\u001b[38;5;241m.\u001b[39mis_fitted \u001b[38;5;241m=\u001b[39m \u001b[38;5;28;01mTrue\u001b[39;00m\n",
      "File \u001b[1;32md:\\ML Algs from scratch\\mlkit\\linear_model\\LogisticRegression.py:152\u001b[0m, in \u001b[0;36mLogisticRegression._gradient_descent\u001b[1;34m(self, X, y)\u001b[0m\n\u001b[0;32m    150\u001b[0m     loss \u001b[38;5;241m=\u001b[39m log_loss(y, y_pred)\n\u001b[0;32m    151\u001b[0m     \u001b[38;5;28mself\u001b[39m\u001b[38;5;241m.\u001b[39mprint(\u001b[38;5;124mf\u001b[39m\u001b[38;5;124m\"\u001b[39m\u001b[38;5;124mIter: \u001b[39m\u001b[38;5;132;01m{\u001b[39;00mi\u001b[38;5;132;01m}\u001b[39;00m\u001b[38;5;124m. Log Loss: \u001b[39m\u001b[38;5;132;01m{\u001b[39;00mloss\u001b[38;5;132;01m}\u001b[39;00m\u001b[38;5;124m.\u001b[39m\u001b[38;5;124m\"\u001b[39m)\n\u001b[1;32m--> 152\u001b[0m \u001b[38;5;28;43mself\u001b[39;49m\u001b[38;5;241;43m.\u001b[39;49m\u001b[43m_gradient_step\u001b[49m\u001b[43m(\u001b[49m\u001b[43mX\u001b[49m\u001b[43m,\u001b[49m\u001b[43m \u001b[49m\u001b[43my\u001b[49m\u001b[43m)\u001b[49m\n",
      "File \u001b[1;32md:\\ML Algs from scratch\\mlkit\\linear_model\\LogisticRegression.py:131\u001b[0m, in \u001b[0;36mLogisticRegression._gradient_step\u001b[1;34m(self, X, y)\u001b[0m\n\u001b[0;32m    129\u001b[0m     batch_indices \u001b[38;5;241m=\u001b[39m indices[:\u001b[38;5;28mself\u001b[39m\u001b[38;5;241m.\u001b[39mbatch_size]  \u001b[38;5;66;03m# Get a batch from the shuffled indices\u001b[39;00m\n\u001b[0;32m    130\u001b[0m     X_batch, y_batch \u001b[38;5;241m=\u001b[39m X[batch_indices], y[batch_indices]\n\u001b[1;32m--> 131\u001b[0m     \u001b[38;5;28;43mself\u001b[39;49m\u001b[38;5;241;43m.\u001b[39;49m\u001b[43m_compute_gradient\u001b[49m\u001b[43m(\u001b[49m\u001b[43mX_batch\u001b[49m\u001b[43m,\u001b[49m\u001b[43m \u001b[49m\u001b[43my_batch\u001b[49m\u001b[43m)\u001b[49m\n\u001b[0;32m    132\u001b[0m \u001b[38;5;28mself\u001b[39m\u001b[38;5;241m.\u001b[39mw \u001b[38;5;241m-\u001b[39m\u001b[38;5;241m=\u001b[39m \u001b[38;5;28mself\u001b[39m\u001b[38;5;241m.\u001b[39mlr \u001b[38;5;241m*\u001b[39m \u001b[38;5;28mself\u001b[39m\u001b[38;5;241m.\u001b[39mw_gradient\n\u001b[0;32m    133\u001b[0m \u001b[38;5;28mself\u001b[39m\u001b[38;5;241m.\u001b[39mb \u001b[38;5;241m-\u001b[39m\u001b[38;5;241m=\u001b[39m \u001b[38;5;28mself\u001b[39m\u001b[38;5;241m.\u001b[39mlr \u001b[38;5;241m*\u001b[39m \u001b[38;5;28mself\u001b[39m\u001b[38;5;241m.\u001b[39mb_gradient\n",
      "File \u001b[1;32md:\\ML Algs from scratch\\mlkit\\linear_model\\LogisticRegression.py:101\u001b[0m, in \u001b[0;36mLogisticRegression._compute_gradient\u001b[1;34m(self, X, y)\u001b[0m\n\u001b[0;32m     88\u001b[0m \u001b[38;5;28;01mdef\u001b[39;00m \u001b[38;5;21m_compute_gradient\u001b[39m(\u001b[38;5;28mself\u001b[39m, X, y):\n\u001b[0;32m     89\u001b[0m \u001b[38;5;250m    \u001b[39m\u001b[38;5;124;03m\"\"\"\u001b[39;00m\n\u001b[0;32m     90\u001b[0m \u001b[38;5;124;03m    Compute gradients for weights and bias.\u001b[39;00m\n\u001b[0;32m     91\u001b[0m \u001b[38;5;124;03m    \u001b[39;00m\n\u001b[1;32m   (...)\u001b[0m\n\u001b[0;32m     99\u001b[0m \u001b[38;5;124;03m        Target values\u001b[39;00m\n\u001b[0;32m    100\u001b[0m \u001b[38;5;124;03m    \"\"\"\u001b[39;00m\n\u001b[1;32m--> 101\u001b[0m     y_pred \u001b[38;5;241m=\u001b[39m sigmoid(\u001b[43mnp\u001b[49m\u001b[38;5;241;43m.\u001b[39;49m\u001b[43mdot\u001b[49m\u001b[43m(\u001b[49m\u001b[43mX\u001b[49m\u001b[43m,\u001b[49m\u001b[43m \u001b[49m\u001b[38;5;28;43mself\u001b[39;49m\u001b[38;5;241;43m.\u001b[39;49m\u001b[43mw\u001b[49m\u001b[43m)\u001b[49m \u001b[38;5;241m+\u001b[39m \u001b[38;5;28mself\u001b[39m\u001b[38;5;241m.\u001b[39mb)\n\u001b[0;32m    102\u001b[0m     \u001b[38;5;28mself\u001b[39m\u001b[38;5;241m.\u001b[39mw_gradient \u001b[38;5;241m=\u001b[39m np\u001b[38;5;241m.\u001b[39mdot((y_pred \u001b[38;5;241m-\u001b[39m y), X) \u001b[38;5;241m/\u001b[39m \u001b[38;5;28mself\u001b[39m\u001b[38;5;241m.\u001b[39mn_samples\n\u001b[0;32m    103\u001b[0m     \u001b[38;5;28mself\u001b[39m\u001b[38;5;241m.\u001b[39mb_gradient \u001b[38;5;241m=\u001b[39m np\u001b[38;5;241m.\u001b[39mmean((y_pred  \u001b[38;5;241m-\u001b[39m y))\n",
      "\u001b[1;31mKeyboardInterrupt\u001b[0m: "
     ]
    }
   ],
   "source": [
    "from mlkit.tune import ModelTuner\n",
    "from mlkit.linear_model import LinearRegression, LogisticRegression\n",
    "from mlkit.model_selection import KFold\n",
    "\n",
    "tuner = ModelTuner(model = LogisticRegression())\n",
    "\n",
    "best_model = tuner.fit(X_train, y_train)"
   ]
  },
  {
   "cell_type": "code",
   "execution_count": null,
   "metadata": {},
   "outputs": [],
   "source": [
    "best_model.score(X_test, y_test)"
   ]
  },
  {
   "cell_type": "code",
   "execution_count": null,
   "metadata": {},
   "outputs": [],
   "source": [
    "tuner.study.trials_dataframe()"
   ]
  },
  {
   "cell_type": "code",
   "execution_count": null,
   "metadata": {},
   "outputs": [],
   "source": []
  }
 ],
 "metadata": {
  "kernelspec": {
   "display_name": "Python 3",
   "language": "python",
   "name": "python3"
  },
  "language_info": {
   "codemirror_mode": {
    "name": "ipython",
    "version": 3
   },
   "file_extension": ".py",
   "mimetype": "text/x-python",
   "name": "python",
   "nbconvert_exporter": "python",
   "pygments_lexer": "ipython3",
   "version": "3.9.19"
  }
 },
 "nbformat": 4,
 "nbformat_minor": 2
}
