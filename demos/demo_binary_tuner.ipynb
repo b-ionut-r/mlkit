{
 "cells": [
  {
   "cell_type": "code",
   "execution_count": 1,
   "metadata": {},
   "outputs": [],
   "source": [
    "import numpy as np\n",
    "import pandas as pd\n",
    "from sklearn.datasets import load_breast_cancer"
   ]
  },
  {
   "cell_type": "code",
   "execution_count": 2,
   "metadata": {},
   "outputs": [],
   "source": [
    "diabetes = load_breast_cancer()\n",
    "features = diabetes.data\n",
    "feature_names = diabetes.feature_names\n",
    "targets = diabetes.target\n",
    "target_names = diabetes.target_names"
   ]
  },
  {
   "cell_type": "code",
   "execution_count": 3,
   "metadata": {},
   "outputs": [
    {
     "data": {
      "text/plain": [
       "(array(['mean radius', 'mean texture', 'mean perimeter', 'mean area',\n",
       "        'mean smoothness', 'mean compactness', 'mean concavity',\n",
       "        'mean concave points', 'mean symmetry', 'mean fractal dimension',\n",
       "        'radius error', 'texture error', 'perimeter error', 'area error',\n",
       "        'smoothness error', 'compactness error', 'concavity error',\n",
       "        'concave points error', 'symmetry error',\n",
       "        'fractal dimension error', 'worst radius', 'worst texture',\n",
       "        'worst perimeter', 'worst area', 'worst smoothness',\n",
       "        'worst compactness', 'worst concavity', 'worst concave points',\n",
       "        'worst symmetry', 'worst fractal dimension'], dtype='<U23'),\n",
       " array([[1.799e+01, 1.038e+01, 1.228e+02, 1.001e+03, 1.184e-01, 2.776e-01,\n",
       "         3.001e-01, 1.471e-01, 2.419e-01, 7.871e-02, 1.095e+00, 9.053e-01,\n",
       "         8.589e+00, 1.534e+02, 6.399e-03, 4.904e-02, 5.373e-02, 1.587e-02,\n",
       "         3.003e-02, 6.193e-03, 2.538e+01, 1.733e+01, 1.846e+02, 2.019e+03,\n",
       "         1.622e-01, 6.656e-01, 7.119e-01, 2.654e-01, 4.601e-01, 1.189e-01],\n",
       "        [2.057e+01, 1.777e+01, 1.329e+02, 1.326e+03, 8.474e-02, 7.864e-02,\n",
       "         8.690e-02, 7.017e-02, 1.812e-01, 5.667e-02, 5.435e-01, 7.339e-01,\n",
       "         3.398e+00, 7.408e+01, 5.225e-03, 1.308e-02, 1.860e-02, 1.340e-02,\n",
       "         1.389e-02, 3.532e-03, 2.499e+01, 2.341e+01, 1.588e+02, 1.956e+03,\n",
       "         1.238e-01, 1.866e-01, 2.416e-01, 1.860e-01, 2.750e-01, 8.902e-02],\n",
       "        [1.969e+01, 2.125e+01, 1.300e+02, 1.203e+03, 1.096e-01, 1.599e-01,\n",
       "         1.974e-01, 1.279e-01, 2.069e-01, 5.999e-02, 7.456e-01, 7.869e-01,\n",
       "         4.585e+00, 9.403e+01, 6.150e-03, 4.006e-02, 3.832e-02, 2.058e-02,\n",
       "         2.250e-02, 4.571e-03, 2.357e+01, 2.553e+01, 1.525e+02, 1.709e+03,\n",
       "         1.444e-01, 4.245e-01, 4.504e-01, 2.430e-01, 3.613e-01, 8.758e-02]]))"
      ]
     },
     "execution_count": 3,
     "metadata": {},
     "output_type": "execute_result"
    }
   ],
   "source": [
    "feature_names, features[:3]"
   ]
  },
  {
   "cell_type": "code",
   "execution_count": 4,
   "metadata": {},
   "outputs": [
    {
     "data": {
      "text/plain": [
       "(array(['malignant', 'benign'], dtype='<U9'),\n",
       " array([0, 0, 0, 0, 0, 0, 0, 0, 0, 0, 0, 0, 0, 0, 0, 0, 0, 0, 0, 1, 1, 1,\n",
       "        0, 0, 0]))"
      ]
     },
     "execution_count": 4,
     "metadata": {},
     "output_type": "execute_result"
    }
   ],
   "source": [
    "target_names, targets[:25]"
   ]
  },
  {
   "cell_type": "code",
   "execution_count": 5,
   "metadata": {},
   "outputs": [],
   "source": [
    "from mlkit.model_selection import train_test_split\n",
    "X_train, X_test, y_train, y_test = train_test_split(features, targets, test_size=0.05, random_state=42)"
   ]
  },
  {
   "cell_type": "code",
   "execution_count": 6,
   "metadata": {},
   "outputs": [
    {
     "name": "stderr",
     "output_type": "stream",
     "text": [
      "[I 2024-12-06 22:30:59,091] A new study created in memory with name: tuner_study\n"
     ]
    },
    {
     "name": "stdout",
     "output_type": "stream",
     "text": [
      "\n",
      "Starting optimization process...\n",
      "\n"
     ]
    },
    {
     "data": {
      "application/vnd.jupyter.widget-view+json": {
       "model_id": "f4218801b9514bdcaf3d3389dd992c87",
       "version_major": 2,
       "version_minor": 0
      },
      "text/plain": [
       "  0%|          | 0/10000 [00:00<?, ?it/s]"
      ]
     },
     "metadata": {},
     "output_type": "display_data"
    },
    {
     "name": "stdout",
     "output_type": "stream",
     "text": [
      "[I 2024-12-06 22:31:15,943] Trial 0 finished with value: 0.968518518428841 and parameters: {'n_iters': 7000, 'lr': 0.07872863806256175, 'reg_mode': 'elasticnet', 'reg_strength': 0.006298502593230738, 'reg_ratio': 0.28995767749289214, 'method': 'gd', 'batch_size': 128, 'scaler': <mlkit.preprocessing.scalers.StandardScaler object at 0x000001D46D180CD0>, 'verbose': 0}. Best is trial 0 with value: 0.968518518428841.\n",
      "[I 2024-12-06 22:31:56,469] Trial 1 finished with value: 0.968518518428841 and parameters: {'n_iters': 9000, 'lr': 0.050821580669329285, 'reg_mode': 'elasticnet', 'reg_strength': 0.0019510151754772568, 'reg_ratio': 0.6136577297481016, 'method': 'sgd', 'batch_size': 256, 'scaler': <mlkit.preprocessing.scalers.StandardScaler object at 0x000001D4514D8A00>, 'verbose': 0}. Best is trial 0 with value: 0.968518518428841.\n",
      "[I 2024-12-06 22:32:33,944] Trial 2 finished with value: 0.968518518428841 and parameters: {'n_iters': 3000, 'lr': 0.017549406168468038, 'reg_mode': 'l1', 'reg_strength': 0.004764496537299102, 'reg_ratio': 0.5947099110840262, 'method': 'sgd', 'batch_size': 256, 'scaler': <mlkit.preprocessing.scalers.StandardScaler object at 0x000001D4514D8100>, 'verbose': 0}. Best is trial 0 with value: 0.968518518428841.\n",
      "[I 2024-12-06 22:33:16,762] Trial 3 finished with value: 0.968518518428841 and parameters: {'n_iters': 13000, 'lr': 0.02053420552447625, 'reg_mode': 'elasticnet', 'reg_strength': 0.0013679268395806552, 'reg_ratio': 0.6586202643030175, 'method': 'sgd', 'batch_size': 256, 'scaler': <mlkit.preprocessing.scalers.MinMaxScaler object at 0x000001D46C7BE2B0>, 'verbose': 0}. Best is trial 0 with value: 0.968518518428841.\n",
      "[I 2024-12-06 22:34:00,829] Trial 4 finished with value: 0.974074073983882 and parameters: {'n_iters': 9000, 'lr': 0.010418146112886209, 'reg_mode': 'elasticnet', 'reg_strength': 0.002199750583247744, 'reg_ratio': 0.5035284795210518, 'method': 'sgd', 'batch_size': 128, 'scaler': <mlkit.preprocessing.scalers.StandardScaler object at 0x000001D46B8C0C70>, 'verbose': 0}. Best is trial 4 with value: 0.974074073983882.\n",
      "[I 2024-12-06 22:34:35,453] Trial 5 finished with value: 0.9666666665771604 and parameters: {'n_iters': 3000, 'lr': 0.057496263614566744, 'reg_mode': 'l1', 'reg_strength': 0.0029905354838181235, 'reg_ratio': 0.6994514226527391, 'method': 'sgd', 'batch_size': 128, 'scaler': <mlkit.preprocessing.scalers.MinMaxScaler object at 0x000001D46C7BE220>, 'verbose': 0}. Best is trial 4 with value: 0.974074073983882.\n",
      "[I 2024-12-06 22:34:59,910] Trial 6 finished with value: 0.9629629628737998 and parameters: {'n_iters': 11000, 'lr': 0.09301844930062038, 'reg_mode': 'l1', 'reg_strength': 0.0010680758670070813, 'reg_ratio': 0.7859046340959022, 'method': 'gd', 'batch_size': 128, 'scaler': <mlkit.preprocessing.scalers.StandardScaler object at 0x000001D46BE225E0>, 'verbose': 0}. Best is trial 4 with value: 0.974074073983882.\n",
      "[I 2024-12-06 22:35:38,757] Trial 7 finished with value: 0.968518518428841 and parameters: {'n_iters': 5000, 'lr': 0.035079520955344404, 'reg_mode': 'l2', 'reg_strength': 0.004032594561001064, 'reg_ratio': 0.404287779401406, 'method': 'sgd', 'batch_size': 256, 'scaler': <mlkit.preprocessing.scalers.MinMaxScaler object at 0x000001D46C41C9A0>, 'verbose': 0}. Best is trial 4 with value: 0.974074073983882.\n",
      "[I 2024-12-06 22:36:20,650] Trial 8 finished with value: 0.968518518428841 and parameters: {'n_iters': 9000, 'lr': 0.026871869246171416, 'reg_mode': 'elasticnet', 'reg_strength': 0.002077508740666776, 'reg_ratio': 0.7978114608778986, 'method': 'sgd', 'batch_size': 256, 'scaler': <mlkit.preprocessing.scalers.StandardScaler object at 0x000001D46B8D1F40>, 'verbose': 0}. Best is trial 4 with value: 0.974074073983882.\n",
      "\n",
      "Finished tuning. Best params are:\n",
      "{'n_iters': 9000, 'lr': 0.010418146112886209, 'method': 'sgd', 'batch_size': 128, 'scaler': <mlkit.preprocessing.scalers.StandardScaler object at 0x000001D46BC90BB0>, 'verbose': 0, 'reg': ('elasticnet', 0.002199750583247744, 0.5035284795210518)}\n",
      "\n",
      "Retraining best model on entire dataset.\n",
      "Done. 😄\n"
     ]
    }
   ],
   "source": [
    "from mlkit.tune import ModelTuner\n",
    "from mlkit.linear_model import LinearRegression, LogisticRegression\n",
    "from mlkit.model_selection import KFold\n",
    "\n",
    "tuner = ModelTuner(model = LogisticRegression(),\n",
    "                   timeout=300)\n",
    "\n",
    "best_model = tuner.fit(X_train, y_train)"
   ]
  },
  {
   "cell_type": "code",
   "execution_count": 7,
   "metadata": {},
   "outputs": [
    {
     "data": {
      "text/plain": [
       "{'accuracy': 0.9655172410463734,\n",
       " 'precision': 0.9999999994444444,\n",
       " 'recall': 0.9473684205540166,\n",
       " 'f1': 0.9729729677136597}"
      ]
     },
     "execution_count": 7,
     "metadata": {},
     "output_type": "execute_result"
    }
   ],
   "source": [
    "best_model.score(X_test, y_test)"
   ]
  },
  {
   "cell_type": "code",
   "execution_count": 8,
   "metadata": {},
   "outputs": [
    {
     "data": {
      "text/html": [
       "<div>\n",
       "<style scoped>\n",
       "    .dataframe tbody tr th:only-of-type {\n",
       "        vertical-align: middle;\n",
       "    }\n",
       "\n",
       "    .dataframe tbody tr th {\n",
       "        vertical-align: top;\n",
       "    }\n",
       "\n",
       "    .dataframe thead th {\n",
       "        text-align: right;\n",
       "    }\n",
       "</style>\n",
       "<table border=\"1\" class=\"dataframe\">\n",
       "  <thead>\n",
       "    <tr style=\"text-align: right;\">\n",
       "      <th></th>\n",
       "      <th>number</th>\n",
       "      <th>value</th>\n",
       "      <th>datetime_start</th>\n",
       "      <th>datetime_complete</th>\n",
       "      <th>duration</th>\n",
       "      <th>params_batch_size</th>\n",
       "      <th>params_lr</th>\n",
       "      <th>params_method</th>\n",
       "      <th>params_n_iters</th>\n",
       "      <th>params_reg_mode</th>\n",
       "      <th>params_reg_ratio</th>\n",
       "      <th>params_reg_strength</th>\n",
       "      <th>params_scaler</th>\n",
       "      <th>params_verbose</th>\n",
       "      <th>state</th>\n",
       "    </tr>\n",
       "  </thead>\n",
       "  <tbody>\n",
       "    <tr>\n",
       "      <th>0</th>\n",
       "      <td>0</td>\n",
       "      <td>0.968519</td>\n",
       "      <td>2024-12-06 22:30:59.109483</td>\n",
       "      <td>2024-12-06 22:31:15.942856</td>\n",
       "      <td>0 days 00:00:16.833373</td>\n",
       "      <td>128</td>\n",
       "      <td>0.078729</td>\n",
       "      <td>gd</td>\n",
       "      <td>7000</td>\n",
       "      <td>elasticnet</td>\n",
       "      <td>0.289958</td>\n",
       "      <td>0.006299</td>\n",
       "      <td>&lt;mlkit.preprocessing.scalers.StandardScaler ob...</td>\n",
       "      <td>0</td>\n",
       "      <td>COMPLETE</td>\n",
       "    </tr>\n",
       "    <tr>\n",
       "      <th>1</th>\n",
       "      <td>1</td>\n",
       "      <td>0.968519</td>\n",
       "      <td>2024-12-06 22:31:16.087238</td>\n",
       "      <td>2024-12-06 22:31:56.469708</td>\n",
       "      <td>0 days 00:00:40.382470</td>\n",
       "      <td>256</td>\n",
       "      <td>0.050822</td>\n",
       "      <td>sgd</td>\n",
       "      <td>9000</td>\n",
       "      <td>elasticnet</td>\n",
       "      <td>0.613658</td>\n",
       "      <td>0.001951</td>\n",
       "      <td>&lt;mlkit.preprocessing.scalers.StandardScaler ob...</td>\n",
       "      <td>0</td>\n",
       "      <td>COMPLETE</td>\n",
       "    </tr>\n",
       "    <tr>\n",
       "      <th>2</th>\n",
       "      <td>2</td>\n",
       "      <td>0.968519</td>\n",
       "      <td>2024-12-06 22:31:56.533834</td>\n",
       "      <td>2024-12-06 22:32:33.943074</td>\n",
       "      <td>0 days 00:00:37.409240</td>\n",
       "      <td>256</td>\n",
       "      <td>0.017549</td>\n",
       "      <td>sgd</td>\n",
       "      <td>3000</td>\n",
       "      <td>l1</td>\n",
       "      <td>0.594710</td>\n",
       "      <td>0.004764</td>\n",
       "      <td>&lt;mlkit.preprocessing.scalers.StandardScaler ob...</td>\n",
       "      <td>0</td>\n",
       "      <td>COMPLETE</td>\n",
       "    </tr>\n",
       "    <tr>\n",
       "      <th>3</th>\n",
       "      <td>3</td>\n",
       "      <td>0.968519</td>\n",
       "      <td>2024-12-06 22:32:34.015509</td>\n",
       "      <td>2024-12-06 22:33:16.761184</td>\n",
       "      <td>0 days 00:00:42.745675</td>\n",
       "      <td>256</td>\n",
       "      <td>0.020534</td>\n",
       "      <td>sgd</td>\n",
       "      <td>13000</td>\n",
       "      <td>elasticnet</td>\n",
       "      <td>0.658620</td>\n",
       "      <td>0.001368</td>\n",
       "      <td>&lt;mlkit.preprocessing.scalers.MinMaxScaler obje...</td>\n",
       "      <td>0</td>\n",
       "      <td>COMPLETE</td>\n",
       "    </tr>\n",
       "    <tr>\n",
       "      <th>4</th>\n",
       "      <td>4</td>\n",
       "      <td>0.974074</td>\n",
       "      <td>2024-12-06 22:33:16.825568</td>\n",
       "      <td>2024-12-06 22:34:00.828360</td>\n",
       "      <td>0 days 00:00:44.002792</td>\n",
       "      <td>128</td>\n",
       "      <td>0.010418</td>\n",
       "      <td>sgd</td>\n",
       "      <td>9000</td>\n",
       "      <td>elasticnet</td>\n",
       "      <td>0.503528</td>\n",
       "      <td>0.002200</td>\n",
       "      <td>&lt;mlkit.preprocessing.scalers.StandardScaler ob...</td>\n",
       "      <td>0</td>\n",
       "      <td>COMPLETE</td>\n",
       "    </tr>\n",
       "    <tr>\n",
       "      <th>5</th>\n",
       "      <td>5</td>\n",
       "      <td>0.966667</td>\n",
       "      <td>2024-12-06 22:34:00.888787</td>\n",
       "      <td>2024-12-06 22:34:35.452726</td>\n",
       "      <td>0 days 00:00:34.563939</td>\n",
       "      <td>128</td>\n",
       "      <td>0.057496</td>\n",
       "      <td>sgd</td>\n",
       "      <td>3000</td>\n",
       "      <td>l1</td>\n",
       "      <td>0.699451</td>\n",
       "      <td>0.002991</td>\n",
       "      <td>&lt;mlkit.preprocessing.scalers.MinMaxScaler obje...</td>\n",
       "      <td>0</td>\n",
       "      <td>COMPLETE</td>\n",
       "    </tr>\n",
       "    <tr>\n",
       "      <th>6</th>\n",
       "      <td>6</td>\n",
       "      <td>0.962963</td>\n",
       "      <td>2024-12-06 22:34:35.562654</td>\n",
       "      <td>2024-12-06 22:34:59.909554</td>\n",
       "      <td>0 days 00:00:24.346900</td>\n",
       "      <td>128</td>\n",
       "      <td>0.093018</td>\n",
       "      <td>gd</td>\n",
       "      <td>11000</td>\n",
       "      <td>l1</td>\n",
       "      <td>0.785905</td>\n",
       "      <td>0.001068</td>\n",
       "      <td>&lt;mlkit.preprocessing.scalers.StandardScaler ob...</td>\n",
       "      <td>0</td>\n",
       "      <td>COMPLETE</td>\n",
       "    </tr>\n",
       "    <tr>\n",
       "      <th>7</th>\n",
       "      <td>7</td>\n",
       "      <td>0.968519</td>\n",
       "      <td>2024-12-06 22:34:59.977090</td>\n",
       "      <td>2024-12-06 22:35:38.756148</td>\n",
       "      <td>0 days 00:00:38.779058</td>\n",
       "      <td>256</td>\n",
       "      <td>0.035080</td>\n",
       "      <td>sgd</td>\n",
       "      <td>5000</td>\n",
       "      <td>l2</td>\n",
       "      <td>0.404288</td>\n",
       "      <td>0.004033</td>\n",
       "      <td>&lt;mlkit.preprocessing.scalers.MinMaxScaler obje...</td>\n",
       "      <td>0</td>\n",
       "      <td>COMPLETE</td>\n",
       "    </tr>\n",
       "    <tr>\n",
       "      <th>8</th>\n",
       "      <td>8</td>\n",
       "      <td>0.968519</td>\n",
       "      <td>2024-12-06 22:35:38.836162</td>\n",
       "      <td>2024-12-06 22:36:20.650283</td>\n",
       "      <td>0 days 00:00:41.814121</td>\n",
       "      <td>256</td>\n",
       "      <td>0.026872</td>\n",
       "      <td>sgd</td>\n",
       "      <td>9000</td>\n",
       "      <td>elasticnet</td>\n",
       "      <td>0.797811</td>\n",
       "      <td>0.002078</td>\n",
       "      <td>&lt;mlkit.preprocessing.scalers.StandardScaler ob...</td>\n",
       "      <td>0</td>\n",
       "      <td>COMPLETE</td>\n",
       "    </tr>\n",
       "  </tbody>\n",
       "</table>\n",
       "</div>"
      ],
      "text/plain": [
       "   number     value             datetime_start          datetime_complete  \\\n",
       "0       0  0.968519 2024-12-06 22:30:59.109483 2024-12-06 22:31:15.942856   \n",
       "1       1  0.968519 2024-12-06 22:31:16.087238 2024-12-06 22:31:56.469708   \n",
       "2       2  0.968519 2024-12-06 22:31:56.533834 2024-12-06 22:32:33.943074   \n",
       "3       3  0.968519 2024-12-06 22:32:34.015509 2024-12-06 22:33:16.761184   \n",
       "4       4  0.974074 2024-12-06 22:33:16.825568 2024-12-06 22:34:00.828360   \n",
       "5       5  0.966667 2024-12-06 22:34:00.888787 2024-12-06 22:34:35.452726   \n",
       "6       6  0.962963 2024-12-06 22:34:35.562654 2024-12-06 22:34:59.909554   \n",
       "7       7  0.968519 2024-12-06 22:34:59.977090 2024-12-06 22:35:38.756148   \n",
       "8       8  0.968519 2024-12-06 22:35:38.836162 2024-12-06 22:36:20.650283   \n",
       "\n",
       "                duration  params_batch_size  params_lr params_method  \\\n",
       "0 0 days 00:00:16.833373                128   0.078729            gd   \n",
       "1 0 days 00:00:40.382470                256   0.050822           sgd   \n",
       "2 0 days 00:00:37.409240                256   0.017549           sgd   \n",
       "3 0 days 00:00:42.745675                256   0.020534           sgd   \n",
       "4 0 days 00:00:44.002792                128   0.010418           sgd   \n",
       "5 0 days 00:00:34.563939                128   0.057496           sgd   \n",
       "6 0 days 00:00:24.346900                128   0.093018            gd   \n",
       "7 0 days 00:00:38.779058                256   0.035080           sgd   \n",
       "8 0 days 00:00:41.814121                256   0.026872           sgd   \n",
       "\n",
       "   params_n_iters params_reg_mode  params_reg_ratio  params_reg_strength  \\\n",
       "0            7000      elasticnet          0.289958             0.006299   \n",
       "1            9000      elasticnet          0.613658             0.001951   \n",
       "2            3000              l1          0.594710             0.004764   \n",
       "3           13000      elasticnet          0.658620             0.001368   \n",
       "4            9000      elasticnet          0.503528             0.002200   \n",
       "5            3000              l1          0.699451             0.002991   \n",
       "6           11000              l1          0.785905             0.001068   \n",
       "7            5000              l2          0.404288             0.004033   \n",
       "8            9000      elasticnet          0.797811             0.002078   \n",
       "\n",
       "                                       params_scaler  params_verbose     state  \n",
       "0  <mlkit.preprocessing.scalers.StandardScaler ob...               0  COMPLETE  \n",
       "1  <mlkit.preprocessing.scalers.StandardScaler ob...               0  COMPLETE  \n",
       "2  <mlkit.preprocessing.scalers.StandardScaler ob...               0  COMPLETE  \n",
       "3  <mlkit.preprocessing.scalers.MinMaxScaler obje...               0  COMPLETE  \n",
       "4  <mlkit.preprocessing.scalers.StandardScaler ob...               0  COMPLETE  \n",
       "5  <mlkit.preprocessing.scalers.MinMaxScaler obje...               0  COMPLETE  \n",
       "6  <mlkit.preprocessing.scalers.StandardScaler ob...               0  COMPLETE  \n",
       "7  <mlkit.preprocessing.scalers.MinMaxScaler obje...               0  COMPLETE  \n",
       "8  <mlkit.preprocessing.scalers.StandardScaler ob...               0  COMPLETE  "
      ]
     },
     "execution_count": 8,
     "metadata": {},
     "output_type": "execute_result"
    }
   ],
   "source": [
    "tuner.study.trials_dataframe()"
   ]
  },
  {
   "cell_type": "code",
   "execution_count": null,
   "metadata": {},
   "outputs": [],
   "source": []
  }
 ],
 "metadata": {
  "kernelspec": {
   "display_name": "Python 3",
   "language": "python",
   "name": "python3"
  },
  "language_info": {
   "codemirror_mode": {
    "name": "ipython",
    "version": 3
   },
   "file_extension": ".py",
   "mimetype": "text/x-python",
   "name": "python",
   "nbconvert_exporter": "python",
   "pygments_lexer": "ipython3",
   "version": "3.9.19"
  }
 },
 "nbformat": 4,
 "nbformat_minor": 2
}
