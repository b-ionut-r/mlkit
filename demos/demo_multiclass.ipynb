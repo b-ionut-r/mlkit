{
 "cells": [
  {
   "cell_type": "code",
   "execution_count": 1,
   "metadata": {},
   "outputs": [
    {
     "name": "stdout",
     "output_type": "stream",
     "text": [
      "Requirement already satisfied: mlkit in c:\\ml_env\\lib\\site-packages (0.0.1)\n"
     ]
    }
   ],
   "source": [
    "!pip install mlkit"
   ]
  },
  {
   "cell_type": "code",
   "execution_count": 2,
   "metadata": {},
   "outputs": [],
   "source": [
    "import numpy as np\n",
    "import pandas as pd\n",
    "from sklearn.datasets import load_iris, load_wine"
   ]
  },
  {
   "cell_type": "code",
   "execution_count": 3,
   "metadata": {},
   "outputs": [],
   "source": [
    "iris = load_wine()\n",
    "X = iris.data\n",
    "X_names = iris.feature_names\n",
    "y = iris.target\n",
    "y_names = iris.target_names"
   ]
  },
  {
   "cell_type": "code",
   "execution_count": 4,
   "metadata": {},
   "outputs": [],
   "source": [
    "from mlkit.model_selection import train_test_split\n",
    "\n",
    "X_train, X_test, y_train, y_test = train_test_split(X, y, test_size=.2)"
   ]
  },
  {
   "cell_type": "code",
   "execution_count": 5,
   "metadata": {},
   "outputs": [
    {
     "name": "stdout",
     "output_type": "stream",
     "text": [
      "Starting training the model:\n",
      "\n",
      "Iter: 0. Log Loss: 1.092568831664811.\n",
      "Iter: 1000. Log Loss: 1.0078237935584529.\n",
      "Iter: 2000. Log Loss: 0.9445294057664011.\n",
      "Iter: 3000. Log Loss: 0.8892105698750562.\n",
      "Iter: 4000. Log Loss: 0.8396675140589739.\n",
      "Iter: 5000. Log Loss: 0.7950827986698029.\n",
      "Iter: 6000. Log Loss: 0.7548668156870882.\n",
      "Iter: 7000. Log Loss: 0.7185067076280882.\n",
      "Iter: 8000. Log Loss: 0.6855471624076782.\n",
      "Iter: 9000. Log Loss: 0.6555865087900437.\n",
      "Iter: 10000. Log Loss: 0.6282729074631175.\n",
      "Iter: 11000. Log Loss: 0.6032995988819111.\n",
      "Iter: 12000. Log Loss: 0.580399779185046.\n",
      "Iter: 13000. Log Loss: 0.5593415832155173.\n",
      "Iter: 14000. Log Loss: 0.5399234375296994.\n",
      "Iter: 15000. Log Loss: 0.521969896790443.\n",
      "Iter: 16000. Log Loss: 0.5053279897224999.\n",
      "Iter: 17000. Log Loss: 0.4898640541716557.\n",
      "Iter: 18000. Log Loss: 0.47546101849547445.\n",
      "Iter: 19000. Log Loss: 0.4620160781614464.\n",
      "Iter: 20000. Log Loss: 0.44943871572692523.\n",
      "Iter: 21000. Log Loss: 0.43764901557699776.\n",
      "Iter: 22000. Log Loss: 0.426576229732141.\n",
      "Iter: 23000. Log Loss: 0.4161575564935592.\n",
      "Iter: 24000. Log Loss: 0.40633709902566884.\n",
      "Iter: 25000. Log Loss: 0.3970649758694753.\n",
      "\n",
      "Done.\n",
      "\n",
      "Best weights: [[ 0.71620205 -0.41245426  0.02976139 -0.82564054  0.09902116  0.49914768\n",
      "   0.87324114 -0.78552742  0.07286325  0.04926967  0.05872395  0.54039989\n",
      "   1.1278302 ]\n",
      " [ 0.26617871  0.77972933  0.25342198  0.41937839  0.01337385 -0.61698509\n",
      "  -1.14937411  0.55844162 -0.39704613  0.83440582 -0.82164613 -1.08406236\n",
      "  -0.17748087]\n",
      " [-1.00804732 -0.38214468 -0.28833393  0.40844643 -0.1176093   0.12493609\n",
      "   0.27766655  0.23883539  0.32545538 -0.88978089  0.74613507  0.5139751\n",
      "  -0.9600989 ]].\n",
      "Best bias: [-0.77560797  0.12646395  0.64914402].\n",
      "\n",
      "Eval metrics on train data:\n",
      "{'accuracy': 0.9812206572078952, 'precision': 0.971210076263256, 'recall': 0.974415204465294, 'f1': 0.9728099956465331}\n"
     ]
    }
   ],
   "source": [
    "from mlkit.linear_model import MultiLogisticRegression\n",
    "\n",
    "model = MultiLogisticRegression()\n",
    "model.fit(X_train, y_train)"
   ]
  },
  {
   "cell_type": "code",
   "execution_count": 6,
   "metadata": {},
   "outputs": [
    {
     "data": {
      "text/plain": [
       "{'accuracy': 0.9999999997222222,\n",
       " 'precision': 0.9999999991558441,\n",
       " 'recall': 0.9999999991558441,\n",
       " 'f1': 0.9999999941558442}"
      ]
     },
     "execution_count": 6,
     "metadata": {},
     "output_type": "execute_result"
    }
   ],
   "source": [
    "model.score(X_test, y_test)"
   ]
  }
 ],
 "metadata": {
  "kernelspec": {
   "display_name": "Python 3",
   "language": "python",
   "name": "python3"
  },
  "language_info": {
   "codemirror_mode": {
    "name": "ipython",
    "version": 3
   },
   "file_extension": ".py",
   "mimetype": "text/x-python",
   "name": "python",
   "nbconvert_exporter": "python",
   "pygments_lexer": "ipython3",
   "version": "3.9.19"
  }
 },
 "nbformat": 4,
 "nbformat_minor": 2
}
